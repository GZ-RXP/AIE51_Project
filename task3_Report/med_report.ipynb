{
 "cells": [
  {
   "cell_type": "code",
   "execution_count": 1,
   "id": "1455245d-2fea-4060-970a-34d75df672c5",
   "metadata": {},
   "outputs": [],
   "source": [
    "from langchain_openai import ChatOpenAI\n",
    "import json"
   ]
  },
  {
   "cell_type": "code",
   "execution_count": 2,
   "id": "09bc407c-e629-4ab3-b6ef-0bb958eb6237",
   "metadata": {},
   "outputs": [],
   "source": [
    "# 在地址后面加上版本号 /v1\n",
    "base_url = \"http://direct.virtaicloud.com:47252/v1\"\n",
    "api_key = \"abc123\"\n",
    "model = \"Qwen2.5-0.5B-Instruct\""
   ]
  },
  {
   "cell_type": "code",
   "execution_count": 3,
   "id": "9b8b4e8d-00b6-415e-8def-4d669244af30",
   "metadata": {},
   "outputs": [],
   "source": [
    "model = ChatOpenAI(base_url=base_url,\n",
    "                  api_key=api_key,\n",
    "                  model=model,\n",
    "                  max_tokens=512,\n",
    "                  temperature=0.1,\n",
    "                  top_p=0.3)"
   ]
  },
  {
   "cell_type": "code",
   "execution_count": 4,
   "id": "214d1452-5a19-4b81-9fd9-af91ae7e3256",
   "metadata": {},
   "outputs": [],
   "source": [
    "\"\"\"\n",
    "    call   单次调用\n",
    "    invoke\n",
    "\"\"\"\n",
    "def get_sentiment(text):\n",
    "    \"\"\"\n",
    "        调用大模型根据输入的文本生成诊断报告\n",
    "    \"\"\"\n",
    "    response = model.invoke(input=text)\n",
    "    response1 =  response.content\n",
    "    corrected_json_string = response1.replace(\"'\", '\"')\n",
    "    # 使用json.loads()函数将JSON字符串转换为Python字典\n",
    "    my_dict = json.loads(corrected_json_string)\n",
    "    return my_dict"
   ]
  },
  {
   "cell_type": "code",
   "execution_count": 5,
   "id": "37c65a0e-9d28-44d1-aa00-13897e6bd04a",
   "metadata": {},
   "outputs": [],
   "source": [
    "# 直接将上下文的对话内容合并为text，主程序调用get_sentiment函数\n",
    "text = \"4岁小孩半天还好不咳嗽，半夜咳得很厉害，请问是什么情况怎么治疗？！医生为了更好的提供服务，我需要询问您几个与病症相关的问题，感谢您配合。患者好的医生你好患者你好医生孩子咳嗽几天了患者大概3天吧患者感觉气管有痰医生阵发性咳嗽还是偶尔咳嗽一声患者阵发性的一段时间咳嗽得很厉害医生夜间咳嗽提示炎症在进展医生现在吃了那些药患者白天偶尔咳嗽一下患者就吃了念慈庵医生现在加用消炎药患者噢医生有炎症，他才会咳嗽才会有痰。患者阿奇美素干混悬剂患者能不能吃医生可以的患者或者是头孢克洛颗粒医生头孢吧患者两种都可以吃是吧患者好的，头孢配合念慈庵，用不用配合别的药医生都可以吃，但是目前吃一种就可以。患者好的，谢谢你了医生！患者这么晚了还打扰！医生不客气啦，晚安吧医生您有任何问题可以随时和我联系或留言，我看到后会第一时间回复。医生如果没有问题，我们就暂时关闭对话吧，希望能够帮到你患者万分感谢！医生不客气啦\"\n",
    "out = get_sentiment(text)"
   ]
  },
  {
   "cell_type": "code",
   "execution_count": 6,
   "id": "5fac6f1c-1e78-49fe-9676-def73d7d0004",
   "metadata": {},
   "outputs": [
    {
     "data": {
      "text/plain": [
       "{'主诉': '咳嗽',\n",
       " '现病史': '患儿咳嗽三天，夜间加重。现服用阿奇美素干混悬剂',\n",
       " '辅助检查': '',\n",
       " '既往史': '',\n",
       " '诊断': '咳嗽待查',\n",
       " '建议': '头孢克洛'}"
      ]
     },
     "execution_count": 6,
     "metadata": {},
     "output_type": "execute_result"
    }
   ],
   "source": [
    "out"
   ]
  },
  {
   "cell_type": "code",
   "execution_count": null,
   "id": "1ee4f02c-03e4-4d3c-a743-400ac4d76e29",
   "metadata": {},
   "outputs": [],
   "source": []
  }
 ],
 "metadata": {
  "kernelspec": {
   "display_name": "Python 3 (ipykernel)",
   "language": "python",
   "name": "python3"
  },
  "language_info": {
   "codemirror_mode": {
    "name": "ipython",
    "version": 3
   },
   "file_extension": ".py",
   "mimetype": "text/x-python",
   "name": "python",
   "nbconvert_exporter": "python",
   "pygments_lexer": "ipython3",
   "version": "3.12.4"
  }
 },
 "nbformat": 4,
 "nbformat_minor": 5
}
