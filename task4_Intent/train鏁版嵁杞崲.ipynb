{
 "cells": [
  {
   "cell_type": "code",
   "execution_count": 1,
   "id": "aceb09c5-248a-4387-b427-6782a9f16c66",
   "metadata": {},
   "outputs": [],
   "source": [
    "import json\n",
    "import random"
   ]
  },
  {
   "cell_type": "code",
   "execution_count": 2,
   "id": "d3660a4e-ee19-43cf-ad78-b65192d64cbd",
   "metadata": {},
   "outputs": [],
   "source": [
    "data_path =  \"IMCS-V2_train.json\""
   ]
  },
  {
   "cell_type": "code",
   "execution_count": 3,
   "id": "355715af-8b2a-4249-860f-58029036bec0",
   "metadata": {},
   "outputs": [],
   "source": [
    "dialogue_act_e2c = {\"Diagnose\": \"诊断\",\n",
    " \"Inform-Basic_Information\": \"告知-基本信息\",\n",
    " \"Inform-Drug_Recommendation\": \"告知-用药建议\",\n",
    " \"Inform-Etiology\": \"告知-病因\",\n",
    " \"Inform-Existing_Examination_and_Treatment\": \"告知-已有检查和治疗\",\n",
    " \"Inform-Medical_Advice\": \"告知-就医建议\",\n",
    " \"Inform-Precautions\": \"告知-注意事项\",\n",
    " \"Inform-Symptom\": \"告知-症状\",\n",
    " \"Other\": \"其他\",\n",
    " \"Request-Basic_Information\": \"提问-基本信息\",\n",
    " \"Request-Drug_Recommendation\": \"提问-用药建议\",\n",
    " \"Request-Etiology\": \"提问-病因\",\n",
    " \"Request-Existing_Examination_and_Treatment\": \"提问-已有检查和治疗\",\n",
    " \"Request-Medical_Advice\": \"提问-就医建议\",\n",
    " \"Request-Precautions\": \"提问-注意事项\",\n",
    " \"Request-Symptom\": \"提问-症状\"}\n",
    "dialogue_act_c2e = {value: key for key,value in dialogue_act_e2c.items()}"
   ]
  },
  {
   "cell_type": "code",
   "execution_count": 4,
   "id": "a9f4dd51-70e6-43ce-804a-da9c1e77ab9d",
   "metadata": {},
   "outputs": [],
   "source": [
    "# 打开文件并读取内容\n",
    "with open(file=data_path, mode='r', encoding='utf8') as file:\n",
    "    # 解析JSON内容\n",
    "    data = json.load(file)"
   ]
  },
  {
   "cell_type": "code",
   "execution_count": 5,
   "id": "e3bd63c3-2ce0-4d25-b9ad-a75bc54882a0",
   "metadata": {},
   "outputs": [],
   "source": [
    "data_sets=[]\n",
    "dialogue_act=set()\n",
    "for key,value in data.items():\n",
    "    # print(key)\n",
    "    # print(value[\"dialogue\"])\n",
    "    for temp in value[\"dialogue\"]:\n",
    "        # print(temp[\"speaker\"])\n",
    "        # print(temp[\"sentence\"])\n",
    "        # print(temp[\"dialogue_act\"])\n",
    "        # print(temp[\"BIO_label\"])\n",
    "        instruction = temp[\"speaker\"]+\":\"+temp[\"sentence\"]\n",
    "        input = \"\"\n",
    "        output = temp[\"dialogue_act\"]\n",
    "        # output = dialogue_act_e2c[temp[\"dialogue_act\"]]\n",
    "        system = \"你是一个医疗问诊对话意图识别专家。请根据用户输入，识别对话意图\"\n",
    "        data_sets.append({\"instruction\":instruction , \"input\":input , \"output\":output , \"system\":system})\n",
    "        dialogue_act = dialogue_act.union([temp[\"dialogue_act\"]])"
   ]
  },
  {
   "cell_type": "code",
   "execution_count": 6,
   "id": "7d942644-dbf4-4239-a9ff-915875f9ec0d",
   "metadata": {
    "scrolled": true
   },
   "outputs": [],
   "source": [
    "#打乱顺序\n",
    "random.shuffle(data_sets)"
   ]
  },
  {
   "cell_type": "code",
   "execution_count": 7,
   "id": "0ad70016-631c-4cc8-a233-1d9fb26126e3",
   "metadata": {},
   "outputs": [],
   "source": [
    "# 数据切分\n",
    "train_data = data_sets[: int(0.8 * len(data_sets))]\n",
    "test_data = data_sets[int(0.8 * len(data_sets)) :]"
   ]
  },
  {
   "cell_type": "code",
   "execution_count": 8,
   "id": "da683057-b09b-4549-9c1c-3b351ef87258",
   "metadata": {},
   "outputs": [],
   "source": [
    "with open(file=\"train_dialogue_act.json\", mode='w', encoding='utf8') as file:\n",
    "    json.dump(obj=train_data,fp=file,ensure_ascii=False)"
   ]
  },
  {
   "cell_type": "code",
   "execution_count": 9,
   "id": "803dc1e3-f4e5-4a53-96aa-c54f4dcca004",
   "metadata": {},
   "outputs": [],
   "source": [
    "with open(file=\"test.json\", mode='w', encoding='utf8') as file:\n",
    "    json.dump(obj=test_data,fp=file,ensure_ascii=False)"
   ]
  },
  {
   "cell_type": "code",
   "execution_count": null,
   "id": "4ee9154c-d091-4226-8c63-c5a9f79fad50",
   "metadata": {},
   "outputs": [],
   "source": []
  }
 ],
 "metadata": {
  "kernelspec": {
   "display_name": "Python 3 (ipykernel)",
   "language": "python",
   "name": "python3"
  },
  "language_info": {
   "codemirror_mode": {
    "name": "ipython",
    "version": 3
   },
   "file_extension": ".py",
   "mimetype": "text/x-python",
   "name": "python",
   "nbconvert_exporter": "python",
   "pygments_lexer": "ipython3",
   "version": "3.12.7"
  }
 },
 "nbformat": 4,
 "nbformat_minor": 5
}
