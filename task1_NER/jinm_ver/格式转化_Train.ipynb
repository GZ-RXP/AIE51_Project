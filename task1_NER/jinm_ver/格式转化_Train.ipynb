{
 "cells": [
  {
   "cell_type": "code",
   "execution_count": 2,
   "id": "1fa08055",
   "metadata": {},
   "outputs": [
    {
     "name": "stdout",
     "output_type": "stream",
     "text": [
      "数据转换完成，保存至 train.json\n"
     ]
    }
   ],
   "source": [
    "import json\n",
    "\n",
    "def convert_to_instruction_format(input_json):\n",
    "    output_list = []\n",
    "    \n",
    "    for example_id, example_value in input_json.items():\n",
    "        for dialogue in example_value['dialogue']:\n",
    "            instruction_item = {\n",
    "                \"instruction\": f\"{dialogue['sentence']}\",\n",
    "                \"input\": \"\",\n",
    "                \"output\": f\"{dialogue['BIO_label']}\",\n",
    "                \"system\": \"你是一个医疗命名实体专家！请根据当前对话文本内容，识别出每一句话中的BIO实体标签\"\n",
    "            }\n",
    "            output_list.append(instruction_item)\n",
    "    \n",
    "    return output_list\n",
    "\n",
    "# 输入数据文件路径和输出数据文件路径\n",
    "input_file_path = 'IMCS-V2_train_output.json'\n",
    "output_file_path = 'train.json'\n",
    "\n",
    "# 读取JSON文件\n",
    "with open(input_file_path, 'r', encoding='utf-8') as f:\n",
    "    input_json = json.load(f)\n",
    "\n",
    "# 转换数据\n",
    "instruction_data = convert_to_instruction_format(input_json)\n",
    "\n",
    "# 将转换后的数据保存到新的JSON文件\n",
    "with open(output_file_path, 'w', encoding='utf-8') as f:\n",
    "    json.dump(instruction_data, f, ensure_ascii=False, indent=2)\n",
    "\n",
    "print(f\"数据转换完成，保存至 {output_file_path}\")\n"
   ]
  },
  {
   "cell_type": "code",
   "execution_count": null,
   "id": "92e18ac7",
   "metadata": {},
   "outputs": [],
   "source": []
  }
 ],
 "metadata": {
  "kernelspec": {
   "display_name": "Python 3 (ipykernel)",
   "language": "python",
   "name": "python3"
  },
  "language_info": {
   "codemirror_mode": {
    "name": "ipython",
    "version": 3
   },
   "file_extension": ".py",
   "mimetype": "text/x-python",
   "name": "python",
   "nbconvert_exporter": "python",
   "pygments_lexer": "ipython3",
   "version": "3.12.3"
  }
 },
 "nbformat": 4,
 "nbformat_minor": 5
}
