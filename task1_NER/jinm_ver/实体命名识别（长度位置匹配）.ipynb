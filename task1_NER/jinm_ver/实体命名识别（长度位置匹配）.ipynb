{
 "cells": [
  {
   "cell_type": "code",
   "execution_count": 1,
   "id": "d4b9d4da-a007-4768-bae6-12210ab524da",
   "metadata": {},
   "outputs": [
    {
     "name": "stderr",
     "output_type": "stream",
     "text": [
      "  1%|          | 1/100 [00:06<10:49,  6.56s/it]"
     ]
    },
    {
     "name": "stdout",
     "output_type": "stream",
     "text": [
      "actual_tags ['O', 'O', 'O', 'B-Drug', 'I-Drug', 'I-Drug']\n",
      "predicted_tags ['O', 'O', 'O', 'B-Drug', 'I-Drug', 'I-Drug']\n"
     ]
    },
    {
     "name": "stderr",
     "output_type": "stream",
     "text": [
      "  2%|▏         | 2/100 [00:10<08:14,  5.04s/it]"
     ]
    },
    {
     "name": "stdout",
     "output_type": "stream",
     "text": [
      "actual_tags ['O', 'O', 'O', 'O', 'O', 'O', 'O', 'O', 'O', 'O', 'O', 'O', 'O', 'O']\n",
      "predicted_tags ['O', 'O', 'O', 'O', 'O', 'O', 'O', 'O', 'O', 'O', 'O', 'O', 'O', 'O']\n"
     ]
    },
    {
     "name": "stderr",
     "output_type": "stream",
     "text": [
      "  3%|▎         | 3/100 [00:17<09:44,  6.03s/it]"
     ]
    },
    {
     "name": "stdout",
     "output_type": "stream",
     "text": [
      "actual_tags ['O', 'O', 'O', 'O', 'O', 'O', 'O', 'O', 'O', 'O', 'O', 'O', 'B-Symptom', 'I-Symptom']\n",
      "predicted_tags ['O', 'O', 'O', 'O', 'O', 'O', 'O', 'O', 'O', 'O', 'O', 'O', 'B-Symptom', 'I-Symptom']\n"
     ]
    },
    {
     "name": "stderr",
     "output_type": "stream",
     "text": [
      "  4%|▍         | 4/100 [00:33<16:01, 10.02s/it]"
     ]
    },
    {
     "name": "stdout",
     "output_type": "stream",
     "text": [
      "actual_tags ['O', 'O', 'O', 'O', 'O', 'O', 'O', 'O', 'O', 'O', 'O', 'O', 'O', 'O', 'O', 'B-Operation', 'I-Operation', 'O', 'O', 'O', 'O', 'O', 'O', 'O', 'O', 'O', 'O', 'O', 'O', 'O', 'O', 'O', 'O', 'O', 'O', 'O', 'B-Symptom', 'I-Symptom']\n",
      "predicted_tags ['O', 'O', 'O', 'O', 'O', 'O', 'O', 'O', 'O', 'O', 'O', 'O', 'O', 'O', 'O', 'B-Operation', 'I-Operation', 'O', 'O', 'O', 'B-Symptom', 'I-Symptom', 'I-Symptom', 'O', 'O', 'O', 'O', 'O', 'O', 'O', 'O', 'O', 'O', 'O', 'O', 'O', 'B-Symptom', 'I-Symptom']\n",
      "预测格式错误: index=8958, instruction=注意孩子拉的很多的话，注意适当补液，如果拉的水不多，可以继续光母乳，预防脱水, predicted_output=O O O O O O O O O O O O O O O B-Operation I-Operation O O O B-Symptom I-Symptom I-Symptom O O O O O O O O O O O O O B-Symptom I-Symptom\n"
     ]
    },
    {
     "name": "stderr",
     "output_type": "stream",
     "text": [
      "  5%|▌         | 5/100 [00:37<12:00,  7.59s/it]"
     ]
    },
    {
     "name": "stdout",
     "output_type": "stream",
     "text": [
      "actual_tags ['O', 'O', 'O', 'O', 'O', 'O', 'O', 'O', 'O', 'O', 'O']\n",
      "predicted_tags ['O', 'O', 'O', 'O', 'O', 'O', 'O', 'O', 'O', 'O', 'O']\n"
     ]
    },
    {
     "name": "stderr",
     "output_type": "stream",
     "text": [
      "  6%|▌         | 6/100 [00:40<09:38,  6.16s/it]"
     ]
    },
    {
     "name": "stdout",
     "output_type": "stream",
     "text": [
      "actual_tags ['B-Symptom', 'I-Symptom']\n",
      "predicted_tags ['B-Symptom', 'I-Symptom']\n"
     ]
    },
    {
     "name": "stderr",
     "output_type": "stream",
     "text": [
      "  7%|▋         | 7/100 [00:49<11:08,  7.19s/it]"
     ]
    },
    {
     "name": "stdout",
     "output_type": "stream",
     "text": [
      "actual_tags ['O', 'O', 'O', 'O', 'B-Drug_Category', 'I-Drug_Category', 'I-Drug_Category', 'I-Drug_Category', 'I-Drug_Category', 'I-Drug_Category', 'O']\n",
      "predicted_tags ['O', 'O', 'O', 'O', 'B-Drug_Category', 'I-Drug_Category', 'I-Drug_Category', 'I-Drug_Category', 'I-Drug_Category', 'I-Drug_Category', 'O']\n"
     ]
    },
    {
     "name": "stderr",
     "output_type": "stream",
     "text": [
      "  8%|▊         | 8/100 [01:04<14:38,  9.55s/it]"
     ]
    },
    {
     "name": "stdout",
     "output_type": "stream",
     "text": [
      "actual_tags ['O', 'O', 'O', 'O', 'O', 'O', 'O', 'O', 'O', 'O', 'O', 'B-Drug', 'I-Drug', 'I-Drug', 'I-Drug', 'O', 'B-Drug', 'I-Drug', 'I-Drug', 'I-Drug', 'I-Drug', 'O', 'O', 'O', 'O']\n",
      "predicted_tags ['O', 'O', 'O', 'O', 'O', 'O', 'O', 'O', 'O', 'O', 'O', 'B-Drug', 'I-Drug', 'I-Drug', 'I-Drug', 'O', 'B-Drug', 'I-Drug', 'I-Drug', 'I-Drug', 'I-Drug', 'O', 'O', 'O', 'O']\n"
     ]
    },
    {
     "name": "stderr",
     "output_type": "stream",
     "text": [
      "  9%|▉         | 9/100 [01:07<11:34,  7.63s/it]"
     ]
    },
    {
     "name": "stdout",
     "output_type": "stream",
     "text": [
      "actual_tags ['O', 'O', 'O', 'O', 'O', 'O', 'O', 'O']\n",
      "predicted_tags ['O', 'O', 'O', 'O', 'O', 'O', 'O', 'O']\n"
     ]
    },
    {
     "name": "stderr",
     "output_type": "stream",
     "text": [
      " 10%|█         | 10/100 [01:09<08:50,  5.89s/it]"
     ]
    },
    {
     "name": "stdout",
     "output_type": "stream",
     "text": [
      "actual_tags ['O', 'O', 'O', 'O', 'O']\n",
      "predicted_tags ['O', 'O', 'O', 'O', 'O']\n"
     ]
    },
    {
     "name": "stderr",
     "output_type": "stream",
     "text": [
      " 11%|█         | 11/100 [01:20<10:44,  7.24s/it]"
     ]
    },
    {
     "name": "stdout",
     "output_type": "stream",
     "text": [
      "actual_tags ['B-Drug', 'I-Drug', 'I-Drug', 'I-Drug', 'B-Drug', 'I-Drug', 'I-Drug', 'I-Drug', 'I-Drug', 'I-Drug']\n",
      "predicted_tags ['B-Drug', 'I-Drug', 'I-Drug', 'I-Drug', 'B-Drug', 'I-Drug', 'I-Drug', 'I-Drug', 'I-Drug', 'I-Drug']\n"
     ]
    },
    {
     "name": "stderr",
     "output_type": "stream",
     "text": [
      " 12%|█▏        | 12/100 [01:27<10:27,  7.13s/it]"
     ]
    },
    {
     "name": "stdout",
     "output_type": "stream",
     "text": [
      "actual_tags ['O', 'O', 'B-Symptom', 'I-Symptom', 'I-Symptom', 'I-Symptom', 'O', 'O', 'O', 'O', 'O', 'O']\n",
      "predicted_tags ['O', 'O', 'B-Symptom', 'I-Symptom', 'I-Symptom', 'I-Symptom', 'O', 'O', 'O', 'O', 'O', 'O']\n"
     ]
    },
    {
     "name": "stderr",
     "output_type": "stream",
     "text": [
      " 13%|█▎        | 13/100 [01:34<10:40,  7.37s/it]"
     ]
    },
    {
     "name": "stdout",
     "output_type": "stream",
     "text": [
      "actual_tags ['O', 'O', 'B-Symptom', 'I-Symptom', 'O', 'B-Symptom', 'I-Symptom', 'O', 'O', 'B-Symptom', 'I-Symptom', 'O']\n",
      "predicted_tags ['O', 'O', 'B-Symptom', 'I-Symptom', 'O', 'B-Symptom', 'I-Symptom', 'O', 'O', 'B-Symptom', 'I-Symptom', 'O']\n"
     ]
    },
    {
     "name": "stderr",
     "output_type": "stream",
     "text": [
      " 14%|█▍        | 14/100 [01:39<09:08,  6.38s/it]"
     ]
    },
    {
     "name": "stdout",
     "output_type": "stream",
     "text": [
      "actual_tags ['B-Drug', 'I-Drug', 'I-Drug', 'I-Drug', 'O', 'O']\n",
      "predicted_tags ['B-Drug', 'I-Drug', 'I-Drug', 'I-Drug', 'O', 'O']\n"
     ]
    },
    {
     "name": "stderr",
     "output_type": "stream",
     "text": [
      " 15%|█▌        | 15/100 [01:41<07:22,  5.21s/it]"
     ]
    },
    {
     "name": "stdout",
     "output_type": "stream",
     "text": [
      "actual_tags ['O', 'O', 'O', 'O', 'O']\n",
      "predicted_tags ['O', 'O', 'O', 'B-Operation', 'I-Operation']\n",
      "预测格式错误: index=17998, instruction=那怎么照射, predicted_output=O O O B-Operation I-Operation\n"
     ]
    },
    {
     "name": "stderr",
     "output_type": "stream",
     "text": [
      " 16%|█▌        | 16/100 [01:47<07:32,  5.39s/it]"
     ]
    },
    {
     "name": "stdout",
     "output_type": "stream",
     "text": [
      "actual_tags ['O', 'O', 'O', 'O', 'O', 'O', 'O', 'O', 'O', 'O', 'O', 'O', 'O', 'B-Operation', 'I-Operation']\n",
      "predicted_tags ['O', 'O', 'O', 'O', 'O', 'O', 'O', 'O', 'O', 'O', 'O', 'O', 'O', 'B-Operation', 'I-Operation']\n"
     ]
    },
    {
     "name": "stderr",
     "output_type": "stream",
     "text": [
      " 17%|█▋        | 17/100 [01:48<05:32,  4.01s/it]"
     ]
    },
    {
     "name": "stdout",
     "output_type": "stream",
     "text": [
      "actual_tags ['O']\n",
      "predicted_tags ['O']\n"
     ]
    },
    {
     "name": "stderr",
     "output_type": "stream",
     "text": [
      " 18%|█▊        | 18/100 [01:56<07:12,  5.27s/it]"
     ]
    },
    {
     "name": "stdout",
     "output_type": "stream",
     "text": [
      "actual_tags ['O', 'O', 'O', 'O', 'O', 'O', 'O', 'O', 'O', 'O', 'O', 'O', 'O', 'O', 'O', 'O', 'O', 'O', 'O', 'O', 'O', 'O', 'O', 'O']\n",
      "predicted_tags ['O', 'O', 'O', 'O', 'O', 'O', 'O', 'O', 'O', 'O', 'O', 'O', 'O', 'O', 'O', 'O', 'O', 'O', 'O', 'O', 'O', 'O', 'O', 'O', 'O']\n",
      "预测格式错误: index=14816, instruction=另外孩子如果吃母乳，孩子妈妈忌辛辣刺激，生冷食品, predicted_output=O O O O O O O O O O O O O O O O O O O O O O O O O\n"
     ]
    },
    {
     "name": "stderr",
     "output_type": "stream",
     "text": [
      " 19%|█▉        | 19/100 [02:01<06:57,  5.16s/it]"
     ]
    },
    {
     "name": "stdout",
     "output_type": "stream",
     "text": [
      "actual_tags ['B-Symptom', 'I-Symptom', 'O', 'B-Symptom', 'O']\n",
      "predicted_tags ['B-Symptom', 'I-Symptom', 'O', 'B-Symptom', 'O']\n"
     ]
    },
    {
     "name": "stderr",
     "output_type": "stream",
     "text": [
      " 20%|██        | 20/100 [02:02<05:10,  3.88s/it]"
     ]
    },
    {
     "name": "stdout",
     "output_type": "stream",
     "text": [
      "actual_tags ['O', 'O']\n",
      "predicted_tags ['O', 'O']\n"
     ]
    },
    {
     "name": "stderr",
     "output_type": "stream",
     "text": [
      " 21%|██        | 21/100 [02:05<04:57,  3.76s/it]"
     ]
    },
    {
     "name": "stdout",
     "output_type": "stream",
     "text": [
      "actual_tags ['O', 'O', 'B-Symptom', 'I-Symptom']\n",
      "predicted_tags ['O', 'O', 'B-Symptom', 'I-Symptom']\n"
     ]
    },
    {
     "name": "stderr",
     "output_type": "stream",
     "text": [
      " 22%|██▏       | 22/100 [02:20<09:19,  7.17s/it]"
     ]
    },
    {
     "name": "stdout",
     "output_type": "stream",
     "text": [
      "actual_tags ['O', 'O', 'O', 'O', 'O', 'O', 'O', 'O', 'O', 'O', 'O', 'O', 'O', 'O', 'O', 'O', 'O', 'O', 'O', 'O', 'O', 'O', 'B-Drug', 'I-Drug', 'I-Drug', 'O', 'O', 'B-Drug', 'I-Drug', 'I-Drug', 'I-Drug', 'I-Drug', 'I-Drug']\n",
      "predicted_tags ['O', 'O', 'O', 'O', 'O', 'O', 'O', 'O', 'O', 'O', 'O', 'O', 'O', 'O', 'O', 'O', 'O', 'O', 'O', 'O', 'O', 'O', 'B-Drug', 'I-Drug', 'I-Drug', 'O', 'O', 'B-Drug', 'I-Drug', 'I-Drug', 'I-Drug', 'I-Drug', 'I-Drug']\n"
     ]
    },
    {
     "name": "stderr",
     "output_type": "stream",
     "text": [
      " 23%|██▎       | 23/100 [02:36<12:36,  9.82s/it]"
     ]
    },
    {
     "name": "stdout",
     "output_type": "stream",
     "text": [
      "actual_tags ['O', 'O', 'B-Symptom', 'I-Symptom', 'I-Symptom', 'I-Symptom', 'I-Symptom', 'O', 'O', 'B-Drug_Category', 'I-Drug_Category', 'I-Drug_Category', 'O', 'O', 'O', 'B-Symptom', 'I-Symptom']\n",
      "predicted_tags ['O', 'O', 'B-Symptom', 'I-Symptom', 'I-Symptom', 'I-Symptom', 'I-Symptom', 'O', 'O', 'B-Drug_Category', 'I-Drug_Category', 'I-Drug_Category', 'O', 'B-Symptom', 'I-Symptom', 'I-Symptom', 'I-Symptom']\n",
      "预测格式错误: index=1143, instruction=昨晚烧38.8吃了退热药，最高39, predicted_output=O O B-Symptom I-Symptom I-Symptom I-Symptom I-Symptom O O B-Drug_Category I-Drug_Category I-Drug_Category O B-Symptom I-Symptom I-Symptom I-Symptom\n"
     ]
    },
    {
     "name": "stderr",
     "output_type": "stream",
     "text": [
      " 24%|██▍       | 24/100 [02:45<11:53,  9.39s/it]"
     ]
    },
    {
     "name": "stdout",
     "output_type": "stream",
     "text": [
      "actual_tags ['B-Drug', 'I-Drug', 'I-Drug', 'O', 'O', 'O', 'O', 'O', 'O', 'O', 'O', 'O', 'O', 'O', 'O', 'O', 'O', 'O', 'O', 'O', 'O']\n",
      "predicted_tags ['B-Drug', 'I-Drug', 'I-Drug', 'O', 'O', 'O', 'O', 'O', 'O', 'O', 'O', 'O', 'O', 'O', 'O', 'O', 'O', 'O', 'O', 'O', 'O']\n"
     ]
    },
    {
     "name": "stderr",
     "output_type": "stream",
     "text": [
      " 25%|██▌       | 25/100 [02:48<09:29,  7.60s/it]"
     ]
    },
    {
     "name": "stdout",
     "output_type": "stream",
     "text": [
      "actual_tags ['O', 'O', 'O', 'O', 'O', 'O', 'O', 'O', 'O', 'O']\n",
      "predicted_tags ['O', 'O', 'O', 'O', 'O', 'O', 'O', 'O', 'O', 'O']\n"
     ]
    },
    {
     "name": "stderr",
     "output_type": "stream",
     "text": [
      " 26%|██▌       | 26/100 [02:49<06:53,  5.59s/it]"
     ]
    },
    {
     "name": "stdout",
     "output_type": "stream",
     "text": [
      "actual_tags ['O', 'O']\n",
      "predicted_tags ['O', 'O']\n"
     ]
    },
    {
     "name": "stderr",
     "output_type": "stream",
     "text": [
      " 27%|██▋       | 27/100 [02:50<04:58,  4.09s/it]"
     ]
    },
    {
     "name": "stdout",
     "output_type": "stream",
     "text": [
      "actual_tags ['O']\n",
      "predicted_tags ['O']\n"
     ]
    },
    {
     "name": "stderr",
     "output_type": "stream",
     "text": [
      " 28%|██▊       | 28/100 [03:05<09:03,  7.54s/it]"
     ]
    },
    {
     "name": "stdout",
     "output_type": "stream",
     "text": [
      "actual_tags ['O', 'O', 'O', 'O', 'O', 'O', 'B-Symptom', 'I-Symptom', 'O', 'O', 'O', 'O', 'O', 'B-Medical_Examination', 'I-Medical_Examination', 'I-Medical_Examination', 'O', 'O', 'B-Symptom', 'I-Symptom', 'I-Symptom', 'I-Symptom', 'O']\n",
      "predicted_tags ['O', 'O', 'O', 'O', 'O', 'O', 'B-Symptom', 'I-Symptom', 'O', 'O', 'O', 'O', 'O', 'B-Medical_Examination', 'I-Medical_Examination', 'I-Medical_Examination', 'O', 'O', 'B-Symptom', 'I-Symptom', 'I-Symptom', 'I-Symptom', 'O']\n"
     ]
    },
    {
     "name": "stderr",
     "output_type": "stream",
     "text": [
      " 29%|██▉       | 29/100 [03:06<06:38,  5.61s/it]"
     ]
    },
    {
     "name": "stdout",
     "output_type": "stream",
     "text": [
      "actual_tags ['O', 'O', 'O']\n",
      "predicted_tags ['O', 'O', 'O']\n"
     ]
    },
    {
     "name": "stderr",
     "output_type": "stream",
     "text": [
      " 30%|███       | 30/100 [03:17<08:10,  7.01s/it]"
     ]
    },
    {
     "name": "stdout",
     "output_type": "stream",
     "text": [
      "actual_tags ['O', 'O', 'O', 'O', 'O', 'O', 'O', 'O', 'O', 'B-Symptom', 'I-Symptom', 'I-Symptom', 'I-Symptom', 'I-Symptom', 'O', 'O', 'O', 'O', 'O', 'O', 'O', 'O', 'O', 'O']\n",
      "predicted_tags ['O', 'O', 'O', 'O', 'O', 'O', 'O', 'O', 'O', 'B-Symptom', 'I-Symptom', 'I-Symptom', 'I-Symptom', 'I-Symptom', 'O', 'O', 'O', 'O', 'O', 'O', 'O', 'O', 'O', 'O']\n"
     ]
    },
    {
     "name": "stderr",
     "output_type": "stream",
     "text": [
      " 31%|███       | 31/100 [03:17<05:57,  5.18s/it]"
     ]
    },
    {
     "name": "stdout",
     "output_type": "stream",
     "text": [
      "actual_tags ['O', 'O']\n",
      "predicted_tags ['O', 'O']\n"
     ]
    },
    {
     "name": "stderr",
     "output_type": "stream",
     "text": [
      " 32%|███▏      | 32/100 [03:32<09:00,  7.95s/it]"
     ]
    },
    {
     "name": "stdout",
     "output_type": "stream",
     "text": [
      "actual_tags ['O', 'O', 'B-Symptom', 'I-Symptom', 'I-Symptom', 'I-Symptom', 'I-Symptom', 'O', 'O', 'O', 'O', 'O', 'O', 'O', 'O', 'O', 'O', 'B-Medical_Examination', 'I-Medical_Examination', 'I-Medical_Examination', 'I-Medical_Examination']\n",
      "predicted_tags ['O', 'O', 'B-Symptom', 'I-Symptom', 'I-Symptom', 'I-Symptom', 'I-Symptom', 'O', 'O', 'O', 'O', 'O', 'O', 'O', 'O', 'O', 'O', 'B-Medical_Examination', 'I-Medical_Examination', 'I-Medical_Examination', 'I-Medical_Examination']\n"
     ]
    },
    {
     "name": "stderr",
     "output_type": "stream",
     "text": [
      " 33%|███▎      | 33/100 [03:40<08:49,  7.90s/it]"
     ]
    },
    {
     "name": "stdout",
     "output_type": "stream",
     "text": [
      "actual_tags ['O', 'O', 'O', 'O', 'O', 'O', 'B-Drug', 'I-Drug', 'I-Drug', 'I-Drug', 'I-Drug', 'I-Drug', 'I-Drug', 'I-Drug']\n",
      "predicted_tags ['O', 'O', 'O', 'O', 'O', 'O', 'B-Drug', 'I-Drug', 'I-Drug', 'I-Drug', 'I-Drug', 'I-Drug', 'I-Drug', 'I-Drug']\n"
     ]
    },
    {
     "name": "stderr",
     "output_type": "stream",
     "text": [
      " 34%|███▍      | 34/100 [03:46<08:13,  7.48s/it]"
     ]
    },
    {
     "name": "stdout",
     "output_type": "stream",
     "text": [
      "actual_tags ['B-Symptom', 'I-Symptom', 'I-Symptom', 'B-Symptom', 'I-Symptom', 'I-Symptom']\n",
      "predicted_tags ['B-Symptom', 'I-Symptom', 'I-Symptom', 'B-Symptom', 'I-Symptom', 'I-Symptom']\n"
     ]
    },
    {
     "name": "stderr",
     "output_type": "stream",
     "text": [
      " 35%|███▌      | 35/100 [03:52<07:25,  6.86s/it]"
     ]
    },
    {
     "name": "stdout",
     "output_type": "stream",
     "text": [
      "actual_tags ['O', 'O', 'O', 'O', 'O', 'O', 'O', 'O', 'O', 'O', 'O', 'O', 'O', 'O', 'O', 'O', 'B-Symptom', 'O']\n",
      "predicted_tags ['O', 'O', 'O', 'O', 'O', 'O', 'O', 'O', 'O', 'O', 'O', 'O', 'O', 'O', 'O', 'O', 'B-Symptom', 'O']\n"
     ]
    },
    {
     "name": "stderr",
     "output_type": "stream",
     "text": [
      " 36%|███▌      | 36/100 [03:56<06:29,  6.09s/it]"
     ]
    },
    {
     "name": "stdout",
     "output_type": "stream",
     "text": [
      "actual_tags ['O', 'O', 'O', 'O', 'O', 'O', 'O', 'O', 'O', 'O', 'O', 'O', 'O', 'O', 'O', 'O', 'O', 'O']\n",
      "predicted_tags ['O', 'O', 'O', 'O', 'O', 'O', 'O', 'O', 'O', 'O', 'O', 'O', 'O', 'O', 'O', 'O', 'O', 'O']\n"
     ]
    },
    {
     "name": "stderr",
     "output_type": "stream",
     "text": [
      " 37%|███▋      | 37/100 [03:59<05:27,  5.19s/it]"
     ]
    },
    {
     "name": "stdout",
     "output_type": "stream",
     "text": [
      "actual_tags ['O', 'O', 'O', 'O', 'O']\n",
      "predicted_tags ['B-Symptom', 'O', 'O', 'B-Symptom', 'O']\n",
      "预测格式错误: index=31588, instruction=憋的脸红，, predicted_output=B-Symptom O O B-Symptom O\n"
     ]
    },
    {
     "name": "stderr",
     "output_type": "stream",
     "text": [
      " 38%|███▊      | 38/100 [04:02<04:45,  4.60s/it]"
     ]
    },
    {
     "name": "stdout",
     "output_type": "stream",
     "text": [
      "actual_tags ['O', 'O', 'O', 'O', 'O', 'O', 'O', 'O', 'O', 'O', 'O', 'O', 'O']\n",
      "predicted_tags ['O', 'O', 'O', 'O', 'O', 'O', 'O', 'O', 'O', 'O', 'O', 'O', 'O']\n"
     ]
    },
    {
     "name": "stderr",
     "output_type": "stream",
     "text": [
      " 39%|███▉      | 39/100 [04:07<04:51,  4.78s/it]"
     ]
    },
    {
     "name": "stdout",
     "output_type": "stream",
     "text": [
      "actual_tags ['O', 'O', 'O', 'O', 'O', 'O', 'O', 'O', 'O', 'O', 'O', 'O', 'O', 'O', 'O', 'O', 'O', 'O', 'O', 'O', 'O']\n",
      "predicted_tags ['O', 'O', 'O', 'O', 'O', 'O', 'O', 'O', 'O', 'O', 'O', 'O', 'O', 'O', 'O', 'O', 'O', 'O', 'O', 'O', 'O']\n"
     ]
    },
    {
     "name": "stderr",
     "output_type": "stream",
     "text": [
      " 40%|████      | 40/100 [04:10<04:11,  4.18s/it]"
     ]
    },
    {
     "name": "stdout",
     "output_type": "stream",
     "text": [
      "actual_tags ['B-Symptom', 'I-Symptom', 'O', 'O']\n",
      "predicted_tags ['B-Symptom', 'I-Symptom', 'O', 'O']\n"
     ]
    },
    {
     "name": "stderr",
     "output_type": "stream",
     "text": [
      " 41%|████      | 41/100 [04:15<04:13,  4.30s/it]"
     ]
    },
    {
     "name": "stdout",
     "output_type": "stream",
     "text": [
      "actual_tags ['O', 'O', 'O', 'O', 'O', 'O', 'O', 'O', 'O', 'O', 'O', 'O', 'O', 'O']\n",
      "predicted_tags ['O', 'O', 'O', 'O', 'O', 'O', 'O', 'O', 'O', 'O', 'O', 'O', 'O', 'O']\n"
     ]
    },
    {
     "name": "stderr",
     "output_type": "stream",
     "text": [
      " 42%|████▏     | 42/100 [04:16<03:09,  3.26s/it]"
     ]
    },
    {
     "name": "stdout",
     "output_type": "stream",
     "text": [
      "actual_tags ['O', 'O', 'O']\n",
      "predicted_tags ['O', 'O', 'O']\n"
     ]
    },
    {
     "name": "stderr",
     "output_type": "stream",
     "text": [
      " 43%|████▎     | 43/100 [04:16<02:23,  2.52s/it]"
     ]
    },
    {
     "name": "stdout",
     "output_type": "stream",
     "text": [
      "actual_tags ['O']\n",
      "predicted_tags ['O']\n"
     ]
    },
    {
     "name": "stderr",
     "output_type": "stream",
     "text": [
      " 44%|████▍     | 44/100 [04:18<02:12,  2.36s/it]"
     ]
    },
    {
     "name": "stdout",
     "output_type": "stream",
     "text": [
      "actual_tags ['O', 'O', 'O', 'O', 'O']\n",
      "predicted_tags ['O', 'O', 'O', 'O', 'O']\n"
     ]
    },
    {
     "name": "stderr",
     "output_type": "stream",
     "text": [
      " 45%|████▌     | 45/100 [04:28<04:17,  4.68s/it]"
     ]
    },
    {
     "name": "stdout",
     "output_type": "stream",
     "text": [
      "actual_tags ['O', 'O', 'O', 'O', 'O', 'O', 'O', 'B-Drug_Category', 'I-Drug_Category', 'I-Drug_Category', 'I-Drug_Category', 'O', 'B-Drug_Category', 'I-Drug_Category', 'I-Drug_Category', 'O', 'O']\n",
      "predicted_tags ['O', 'O', 'O', 'O', 'O', 'O', 'B-Operation', 'I-Operation', 'I-Operation', 'I-Operation', 'I-Operation', 'O', 'B-Drug_Category', 'I-Drug_Category', 'I-Drug_Category', 'O', 'O']\n",
      "预测格式错误: index=17836, instruction=别着急，可以打抗过敏药和消炎药观察, predicted_output=O O O O O O B-Operation I-Operation I-Operation I-Operation I-Operation O B-Drug_Category I-Drug_Category I-Drug_Category O O\n"
     ]
    },
    {
     "name": "stderr",
     "output_type": "stream",
     "text": [
      " 46%|████▌     | 46/100 [04:32<03:47,  4.21s/it]"
     ]
    },
    {
     "name": "stdout",
     "output_type": "stream",
     "text": [
      "actual_tags ['O', 'O', 'O', 'O', 'O', 'O', 'O', 'O', 'O', 'O', 'O']\n",
      "predicted_tags ['O', 'O', 'O', 'O', 'O', 'O', 'O', 'O', 'O', 'O', 'O']\n"
     ]
    },
    {
     "name": "stderr",
     "output_type": "stream",
     "text": [
      " 47%|████▋     | 47/100 [04:34<03:22,  3.81s/it]"
     ]
    },
    {
     "name": "stdout",
     "output_type": "stream",
     "text": [
      "actual_tags ['O', 'O', 'O', 'O', 'O', 'O', 'O', 'O']\n",
      "predicted_tags ['O', 'O', 'O', 'O', 'O', 'O', 'O', 'O']\n"
     ]
    },
    {
     "name": "stderr",
     "output_type": "stream",
     "text": [
      " 48%|████▊     | 48/100 [04:35<02:31,  2.92s/it]"
     ]
    },
    {
     "name": "stdout",
     "output_type": "stream",
     "text": [
      "actual_tags ['O', 'O']\n",
      "predicted_tags ['O', 'O']\n"
     ]
    },
    {
     "name": "stderr",
     "output_type": "stream",
     "text": [
      " 49%|████▉     | 49/100 [04:41<03:11,  3.75s/it]"
     ]
    },
    {
     "name": "stdout",
     "output_type": "stream",
     "text": [
      "actual_tags ['O', 'O', 'B-Operation', 'I-Operation', 'O', 'O', 'O', 'O', 'O', 'O', 'O', 'O', 'O', 'O', 'O']\n",
      "predicted_tags ['O', 'O', 'B-Operation', 'I-Operation', 'O', 'O', 'O', 'O', 'O', 'O', 'O', 'O', 'O', 'O', 'O']\n"
     ]
    },
    {
     "name": "stderr",
     "output_type": "stream",
     "text": [
      " 50%|█████     | 50/100 [04:47<03:47,  4.55s/it]"
     ]
    },
    {
     "name": "stdout",
     "output_type": "stream",
     "text": [
      "actual_tags ['O', 'O', 'O', 'O', 'O', 'O', 'B-Drug', 'I-Drug', 'O', 'O', 'B-Symptom', 'I-Symptom', 'O', 'O', 'O', 'O', 'O']\n",
      "predicted_tags ['O', 'O', 'O', 'O', 'O', 'O', 'B-Drug', 'I-Drug', 'O', 'O', 'B-Symptom', 'I-Symptom', 'O', 'O', 'O', 'O', 'O']\n"
     ]
    },
    {
     "name": "stderr",
     "output_type": "stream",
     "text": [
      " 51%|█████     | 51/100 [04:51<03:24,  4.17s/it]"
     ]
    },
    {
     "name": "stdout",
     "output_type": "stream",
     "text": [
      "actual_tags ['O', 'O', 'O', 'O', 'O', 'O', 'O', 'O', 'O', 'O', 'O', 'O']\n",
      "predicted_tags ['O', 'O', 'O', 'O', 'O', 'O', 'O', 'O', 'O', 'O', 'O', 'O']\n"
     ]
    },
    {
     "name": "stderr",
     "output_type": "stream",
     "text": [
      " 52%|█████▏    | 52/100 [05:04<05:37,  7.03s/it]"
     ]
    },
    {
     "name": "stdout",
     "output_type": "stream",
     "text": [
      "actual_tags ['O', 'O', 'O', 'O', 'O', 'O', 'O', 'O', 'O', 'O', 'O', 'O', 'O', 'O', 'O', 'O', 'O', 'O', 'O', 'O', 'O', 'O', 'O', 'O', 'O', 'O', 'B-Operation', 'I-Operation', 'I-Operation', 'I-Operation', 'O', 'O', 'O', 'O', 'O', 'O', 'O', 'O', 'O', 'O', 'O', 'O']\n",
      "predicted_tags ['O', 'O', 'O', 'O', 'O', 'O', 'O', 'O', 'O', 'O', 'O', 'O', 'O', 'O', 'O', 'O', 'O', 'O', 'O', 'O', 'O', 'O', 'O', 'O', 'O', 'O', 'B-Operation', 'I-Operation', 'I-Operation', 'I-Operation', 'O', 'O', 'O', 'O', 'O', 'O', 'O', 'O', 'O', 'O', 'O', 'O']\n"
     ]
    },
    {
     "name": "stderr",
     "output_type": "stream",
     "text": [
      " 53%|█████▎    | 53/100 [05:21<07:46,  9.93s/it]"
     ]
    },
    {
     "name": "stdout",
     "output_type": "stream",
     "text": [
      "actual_tags ['O', 'O', 'O', 'O', 'O', 'O', 'O', 'O', 'O', 'O', 'O', 'O', 'B-Symptom', 'I-Symptom', 'I-Symptom', 'I-Symptom', 'I-Symptom', 'I-Symptom', 'I-Symptom', 'O', 'O', 'O', 'O', 'B-Drug', 'I-Drug', 'B-Drug_Category', 'I-Drug_Category', 'I-Drug_Category', 'O']\n",
      "predicted_tags ['O', 'O', 'O', 'O', 'O', 'O', 'O', 'O', 'O', 'O', 'O', 'O', 'B-Symptom', 'I-Symptom', 'B-Symptom', 'I-Symptom', 'I-Symptom', 'I-Symptom', 'I-Symptom', 'O', 'O', 'O', 'O', 'B-Drug', 'I-Drug', 'B-Drug_Category', 'I-Drug_Category', 'I-Drug_Category', 'O']\n",
      "预测格式错误: index=2867, instruction=要注意体温情况，如果出现高热体温39度，就要吃美林退热药。, predicted_output=O O O O O O O O O O O O B-Symptom I-Symptom B-Symptom I-Symptom I-Symptom I-Symptom I-Symptom O O O O B-Drug I-Drug B-Drug_Category I-Drug_Category I-Drug_Category O\n"
     ]
    },
    {
     "name": "stderr",
     "output_type": "stream",
     "text": [
      " 54%|█████▍    | 54/100 [05:28<07:00,  9.15s/it]"
     ]
    },
    {
     "name": "stdout",
     "output_type": "stream",
     "text": [
      "actual_tags ['O', 'O', 'B-Drug', 'I-Drug', 'I-Drug', 'I-Drug', 'I-Drug', 'I-Drug', 'O', 'B-Drug', 'I-Drug', 'O', 'O', 'O', 'O']\n",
      "predicted_tags ['O', 'O', 'B-Drug', 'I-Drug', 'I-Drug', 'I-Drug', 'I-Drug', 'I-Drug', 'O', 'B-Drug', 'I-Drug', 'O', 'O', 'O', 'O']\n"
     ]
    },
    {
     "name": "stderr",
     "output_type": "stream",
     "text": [
      " 55%|█████▌    | 55/100 [05:30<05:16,  7.03s/it]"
     ]
    },
    {
     "name": "stdout",
     "output_type": "stream",
     "text": [
      "actual_tags ['O', 'O', 'O', 'O', 'O', 'O', 'O', 'O']\n",
      "predicted_tags ['O', 'O', 'O', 'O', 'O', 'O', 'O', 'O']\n"
     ]
    },
    {
     "name": "stderr",
     "output_type": "stream",
     "text": [
      " 56%|█████▌    | 56/100 [05:31<03:48,  5.19s/it]"
     ]
    },
    {
     "name": "stdout",
     "output_type": "stream",
     "text": [
      "actual_tags ['O', 'O', 'O']\n",
      "predicted_tags ['O', 'O', 'O']\n"
     ]
    },
    {
     "name": "stderr",
     "output_type": "stream",
     "text": [
      " 57%|█████▋    | 57/100 [05:46<05:45,  8.04s/it]"
     ]
    },
    {
     "name": "stdout",
     "output_type": "stream",
     "text": [
      "actual_tags ['O', 'O', 'O', 'O', 'O', 'O', 'O', 'O', 'O', 'O', 'O', 'O', 'O', 'B-Symptom', 'I-Symptom', 'I-Symptom', 'I-Symptom', 'I-Symptom', 'I-Symptom', 'O', 'O', 'O', 'O', 'O', 'O', 'O', 'O', 'O', 'O', 'O', 'O', 'O', 'B-Symptom', 'I-Symptom', 'O', 'O', 'O']\n",
      "predicted_tags ['O', 'O', 'O', 'O', 'O', 'O', 'O', 'O', 'O', 'O', 'O', 'O', 'O', 'O', 'B-Symptom', 'I-Symptom', 'I-Symptom', 'I-Symptom', 'O', 'O', 'O', 'O', 'O', 'O', 'O', 'O', 'O', 'O', 'O', 'O', 'O', 'O', 'B-Symptom', 'I-Symptom', 'B-Symptom', 'I-Symptom', 'O']\n",
      "预测格式错误: index=23534, instruction=大便在肠腔内停留时间过长会有酸臭味道的，药物不吃的话，孩子就容易便秘脱肛。, predicted_output=O O O O O O O O O O O O O O B-Symptom I-Symptom I-Symptom I-Symptom O O O O O O O O O O O O O O B-Symptom I-Symptom B-Symptom I-Symptom O\n"
     ]
    },
    {
     "name": "stderr",
     "output_type": "stream",
     "text": [
      " 58%|█████▊    | 58/100 [05:58<06:31,  9.32s/it]"
     ]
    },
    {
     "name": "stdout",
     "output_type": "stream",
     "text": [
      "actual_tags ['O', 'O', 'O', 'O', 'B-Symptom', 'O', 'B-Symptom', 'I-Symptom', 'I-Symptom', 'O', 'O', 'O', 'O', 'O', 'O', 'O', 'O', 'O', 'O', 'B-Symptom', 'I-Symptom', 'I-Symptom', 'O', 'B-Symptom', 'I-Symptom', 'O']\n",
      "predicted_tags ['O', 'O', 'O', 'O', 'B-Symptom', 'O', 'B-Symptom', 'I-Symptom', 'I-Symptom', 'O', 'O', 'O', 'O', 'O', 'O', 'O', 'O', 'O', 'O', 'B-Symptom', 'I-Symptom', 'I-Symptom', 'O', 'B-Symptom', 'I-Symptom', 'O']\n"
     ]
    },
    {
     "name": "stderr",
     "output_type": "stream",
     "text": [
      " 59%|█████▉    | 59/100 [06:03<05:19,  7.78s/it]"
     ]
    },
    {
     "name": "stdout",
     "output_type": "stream",
     "text": [
      "actual_tags ['O', 'O', 'O', 'O', 'O', 'O', 'O', 'O', 'O', 'O', 'O', 'O', 'O', 'O', 'O']\n",
      "predicted_tags ['O', 'O', 'O', 'O', 'O', 'O', 'O', 'O', 'O', 'O', 'O', 'O', 'O', 'O', 'O']\n"
     ]
    },
    {
     "name": "stderr",
     "output_type": "stream",
     "text": [
      " 60%|██████    | 60/100 [06:05<04:06,  6.17s/it]"
     ]
    },
    {
     "name": "stdout",
     "output_type": "stream",
     "text": [
      "actual_tags ['O', 'O', 'O', 'O', 'O', 'O', 'O', 'O']\n",
      "predicted_tags ['O', 'O', 'O', 'O', 'O', 'O', 'O', 'O']\n"
     ]
    },
    {
     "name": "stderr",
     "output_type": "stream",
     "text": [
      " 61%|██████    | 61/100 [06:06<03:00,  4.62s/it]"
     ]
    },
    {
     "name": "stdout",
     "output_type": "stream",
     "text": [
      "actual_tags ['O', 'O']\n",
      "predicted_tags ['O', 'O']\n"
     ]
    },
    {
     "name": "stderr",
     "output_type": "stream",
     "text": [
      " 62%|██████▏   | 62/100 [06:11<02:59,  4.74s/it]"
     ]
    },
    {
     "name": "stdout",
     "output_type": "stream",
     "text": [
      "actual_tags ['O', 'O', 'O', 'O', 'O', 'O', 'O', 'O', 'O', 'O', 'O', 'O', 'O', 'O', 'O', 'O', 'O', 'O']\n",
      "predicted_tags ['O', 'O', 'O', 'O', 'O', 'O', 'O', 'O', 'O', 'O', 'O', 'O', 'O', 'O', 'O', 'O', 'O', 'O']\n"
     ]
    },
    {
     "name": "stderr",
     "output_type": "stream",
     "text": [
      " 63%|██████▎   | 63/100 [06:18<03:24,  5.53s/it]"
     ]
    },
    {
     "name": "stdout",
     "output_type": "stream",
     "text": [
      "actual_tags ['O', 'O', 'O', 'O', 'O', 'O', 'O', 'O', 'O', 'O', 'O', 'O', 'O', 'O', 'O', 'O', 'O', 'O', 'O', 'O', 'O', 'O', 'O', 'O', 'O', 'O', 'O']\n",
      "predicted_tags ['O', 'O', 'O', 'O', 'O', 'O', 'O', 'O', 'O', 'O', 'O', 'O', 'O', 'O', 'O', 'O', 'O', 'O', 'O', 'O', 'O', 'O', 'O', 'O', 'O', 'O', 'O']\n"
     ]
    },
    {
     "name": "stderr",
     "output_type": "stream",
     "text": [
      " 64%|██████▍   | 64/100 [06:25<03:36,  6.01s/it]"
     ]
    },
    {
     "name": "stdout",
     "output_type": "stream",
     "text": [
      "actual_tags ['O', 'O', 'O', 'O', 'B-Symptom', 'I-Symptom', 'O', 'O', 'O', 'O', 'O', 'O', 'O', 'O', 'O', 'O', 'O']\n",
      "predicted_tags ['O', 'O', 'O', 'O', 'B-Symptom', 'I-Symptom', 'O', 'O', 'O', 'O', 'O', 'O', 'O', 'O', 'O', 'O', 'O']\n"
     ]
    },
    {
     "name": "stderr",
     "output_type": "stream",
     "text": [
      " 65%|██████▌   | 65/100 [06:32<03:35,  6.15s/it]"
     ]
    },
    {
     "name": "stdout",
     "output_type": "stream",
     "text": [
      "actual_tags ['O', 'O', 'B-Symptom', 'I-Symptom', 'I-Symptom', 'I-Symptom', 'I-Symptom']\n",
      "predicted_tags ['O', 'O', 'B-Symptom', 'I-Symptom', 'I-Symptom', 'I-Symptom', 'I-Symptom']\n"
     ]
    },
    {
     "name": "stderr",
     "output_type": "stream",
     "text": [
      " 66%|██████▌   | 66/100 [06:34<02:42,  4.78s/it]"
     ]
    },
    {
     "name": "stdout",
     "output_type": "stream",
     "text": [
      "actual_tags ['O', 'O', 'O', 'O', 'O']\n",
      "predicted_tags ['O', 'O', 'O', 'O', 'O']\n"
     ]
    },
    {
     "name": "stderr",
     "output_type": "stream",
     "text": [
      " 67%|██████▋   | 67/100 [06:35<02:03,  3.74s/it]"
     ]
    },
    {
     "name": "stdout",
     "output_type": "stream",
     "text": [
      "actual_tags ['O', 'O', 'O']\n",
      "predicted_tags ['O', 'O', 'O']\n"
     ]
    },
    {
     "name": "stderr",
     "output_type": "stream",
     "text": [
      " 68%|██████▊   | 68/100 [06:38<01:58,  3.70s/it]"
     ]
    },
    {
     "name": "stdout",
     "output_type": "stream",
     "text": [
      "actual_tags ['O', 'O', 'O', 'O', 'O', 'O', 'O', 'O', 'O', 'O']\n",
      "predicted_tags ['O', 'O', 'O', 'O', 'O', 'O', 'O', 'O', 'O', 'O']\n"
     ]
    },
    {
     "name": "stderr",
     "output_type": "stream",
     "text": [
      " 69%|██████▉   | 69/100 [06:40<01:37,  3.16s/it]"
     ]
    },
    {
     "name": "stdout",
     "output_type": "stream",
     "text": [
      "actual_tags ['O', 'O', 'O', 'O', 'O']\n",
      "predicted_tags ['O', 'O', 'O', 'O', 'O']\n"
     ]
    },
    {
     "name": "stderr",
     "output_type": "stream",
     "text": [
      " 70%|███████   | 70/100 [06:42<01:24,  2.81s/it]"
     ]
    },
    {
     "name": "stdout",
     "output_type": "stream",
     "text": [
      "actual_tags ['O', 'O', 'O', 'O', 'O', 'O', 'O']\n",
      "predicted_tags ['O', 'O', 'O', 'O', 'O', 'O', 'O']\n"
     ]
    },
    {
     "name": "stderr",
     "output_type": "stream",
     "text": [
      " 71%|███████   | 71/100 [06:53<02:30,  5.21s/it]"
     ]
    },
    {
     "name": "stdout",
     "output_type": "stream",
     "text": [
      "actual_tags ['B-Symptom', 'I-Symptom', 'I-Symptom', 'I-Symptom', 'I-Symptom', 'O', 'O', 'O', 'O', 'O', 'O', 'O', 'O']\n",
      "predicted_tags ['B-Medical_Examination', 'I-Medical_Examination', 'I-Medical_Examination', 'I-Medical_Examination', 'I-Medical_Examination', 'I-Medical_Examination', 'O', 'O', 'O', 'O', 'O', 'O', 'O']\n",
      "预测格式错误: index=19767, instruction=病理性黄疸值听说升得很快的, predicted_output=B-Medical_Examination I-Medical_Examination I-Medical_Examination I-Medical_Examination I-Medical_Examination I-Medical_Examination O O O O O O O\n"
     ]
    },
    {
     "name": "stderr",
     "output_type": "stream",
     "text": [
      " 72%|███████▏  | 72/100 [06:57<02:10,  4.67s/it]"
     ]
    },
    {
     "name": "stdout",
     "output_type": "stream",
     "text": [
      "actual_tags ['O', 'O', 'O', 'O', 'O', 'O', 'O', 'O', 'O', 'O', 'O']\n",
      "predicted_tags ['O', 'O', 'O', 'O', 'O', 'O', 'O', 'O', 'O', 'O', 'O']\n"
     ]
    },
    {
     "name": "stderr",
     "output_type": "stream",
     "text": [
      " 73%|███████▎  | 73/100 [06:57<01:35,  3.53s/it]"
     ]
    },
    {
     "name": "stdout",
     "output_type": "stream",
     "text": [
      "actual_tags ['O', 'O']\n",
      "predicted_tags ['O', 'O']\n"
     ]
    },
    {
     "name": "stderr",
     "output_type": "stream",
     "text": [
      " 74%|███████▍  | 74/100 [07:08<02:30,  5.78s/it]"
     ]
    },
    {
     "name": "stdout",
     "output_type": "stream",
     "text": [
      "actual_tags ['O', 'O', 'O', 'O', 'O', 'O', 'O', 'O', 'O', 'O', 'O', 'O', 'O', 'O', 'O', 'O', 'O', 'O', 'O', 'O']\n",
      "predicted_tags ['O', 'O', 'O', 'O', 'O', 'O', 'O', 'O', 'O', 'O', 'O', 'O', 'B-Symptom', 'I-Symptom', 'I-Symptom', 'I-Symptom', 'I-Symptom', 'I-Symptom', 'I-Symptom', 'O']\n",
      "预测格式错误: index=21355, instruction=可是他刚才也大便了一次，软的，还是有血哦, predicted_output=O O O O O O O O O O O O B-Symptom I-Symptom I-Symptom I-Symptom I-Symptom I-Symptom I-Symptom O\n"
     ]
    },
    {
     "name": "stderr",
     "output_type": "stream",
     "text": [
      " 75%|███████▌  | 75/100 [07:11<01:59,  4.76s/it]"
     ]
    },
    {
     "name": "stdout",
     "output_type": "stream",
     "text": [
      "actual_tags ['O', 'O', 'O', 'O', 'O', 'O', 'O', 'O']\n",
      "predicted_tags ['O', 'O', 'O', 'O', 'O', 'O', 'O', 'O']\n"
     ]
    },
    {
     "name": "stderr",
     "output_type": "stream",
     "text": [
      " 76%|███████▌  | 76/100 [07:12<01:28,  3.70s/it]"
     ]
    },
    {
     "name": "stdout",
     "output_type": "stream",
     "text": [
      "actual_tags ['O', 'O', 'O']\n",
      "predicted_tags ['O', 'O', 'O']\n"
     ]
    },
    {
     "name": "stderr",
     "output_type": "stream",
     "text": [
      " 77%|███████▋  | 77/100 [07:14<01:12,  3.16s/it]"
     ]
    },
    {
     "name": "stdout",
     "output_type": "stream",
     "text": [
      "actual_tags ['O', 'O', 'B-Symptom']\n",
      "predicted_tags ['O', 'O', 'B-Symptom']\n"
     ]
    },
    {
     "name": "stderr",
     "output_type": "stream",
     "text": [
      " 78%|███████▊  | 78/100 [07:22<01:40,  4.55s/it]"
     ]
    },
    {
     "name": "stdout",
     "output_type": "stream",
     "text": [
      "actual_tags ['O', 'O', 'O', 'O', 'B-Symptom', 'I-Symptom', 'O', 'O', 'O', 'O', 'O', 'O', 'O', 'O', 'O', 'O', 'O', 'O', 'O', 'O']\n",
      "predicted_tags ['O', 'O', 'O', 'O', 'B-Symptom', 'I-Symptom', 'O', 'O', 'O', 'O', 'O', 'O', 'O', 'O', 'O', 'O', 'O', 'O', 'O', 'O']\n"
     ]
    },
    {
     "name": "stderr",
     "output_type": "stream",
     "text": [
      " 79%|███████▉  | 79/100 [07:23<01:13,  3.51s/it]"
     ]
    },
    {
     "name": "stdout",
     "output_type": "stream",
     "text": [
      "actual_tags ['O', 'O', 'O']\n",
      "predicted_tags ['O', 'O', 'O']\n"
     ]
    },
    {
     "name": "stderr",
     "output_type": "stream",
     "text": [
      " 80%|████████  | 80/100 [07:40<02:34,  7.71s/it]"
     ]
    },
    {
     "name": "stdout",
     "output_type": "stream",
     "text": [
      "actual_tags ['B-Symptom', 'I-Symptom', 'O', 'O', 'O', 'O', 'O', 'O', 'O', 'O', 'O', 'B-Symptom', 'O', 'B-Symptom', 'I-Symptom', 'O', 'O', 'O', 'O', 'O', 'O', 'O', 'O', 'O', 'O', 'O', 'O', 'O', 'O', 'O', 'O', 'O', 'O', 'O', 'B-Symptom', 'I-Symptom', 'O', 'O', 'O', 'O', 'O', 'O', 'O', 'O', 'O', 'O', 'O', 'O', 'O', 'O', 'O']\n",
      "predicted_tags ['B-Symptom', 'I-Symptom', 'O', 'O', 'O', 'O', 'O', 'O', 'O', 'O', 'O', 'B-Symptom', 'O', 'B-Symptom', 'I-Symptom', 'O', 'O', 'O', 'O', 'O', 'O', 'O', 'O', 'O', 'O', 'O', 'O', 'O', 'O', 'O', 'O', 'O', 'O', 'O', 'B-Symptom', 'O', 'O', 'O', 'O', 'O', 'O', 'O', 'O', 'O', 'O', 'O', 'O', 'O', 'O', 'O', 'O']\n",
      "预测格式错误: index=8157, instruction=咳嗽是一个过程，宝贝上痰后咳嗽症状比较厉害，并不代表宝贝病情加重了，痰液刺激的！不用担心，多给宝贝后背, predicted_output=B-Symptom I-Symptom O O O O O O O O O B-Symptom O B-Symptom I-Symptom O O O O O O O O O O O O O O O O O O O B-Symptom O O O O O O O O O O O O O O O O\n"
     ]
    },
    {
     "name": "stderr",
     "output_type": "stream",
     "text": [
      " 81%|████████  | 81/100 [07:42<01:49,  5.79s/it]"
     ]
    },
    {
     "name": "stdout",
     "output_type": "stream",
     "text": [
      "actual_tags ['O', 'O', 'O', 'O']\n",
      "predicted_tags ['O', 'O', 'O', 'O']\n"
     ]
    },
    {
     "name": "stderr",
     "output_type": "stream",
     "text": [
      " 82%|████████▏ | 82/100 [07:47<01:39,  5.52s/it]"
     ]
    },
    {
     "name": "stdout",
     "output_type": "stream",
     "text": [
      "actual_tags ['O', 'O', 'B-Symptom', 'I-Symptom', 'O', 'B-Symptom', 'O', 'O']\n",
      "predicted_tags ['O', 'O', 'B-Symptom', 'I-Symptom', 'O', 'B-Symptom', 'O', 'O']\n"
     ]
    },
    {
     "name": "stderr",
     "output_type": "stream",
     "text": [
      " 83%|████████▎ | 83/100 [08:24<04:16, 15.08s/it]"
     ]
    },
    {
     "name": "stdout",
     "output_type": "stream",
     "text": [
      "actual_tags ['O', 'O', 'O', 'O', 'O', 'O', 'O', 'O', 'O', 'O', 'O', 'O', 'O', 'O', 'O', 'O', 'O', 'O', 'O', 'O', 'O', 'O', 'O', 'O', 'O', 'O', 'O', 'O', 'O', 'O', 'O', 'O', 'O', 'O', 'O', 'O', 'O', 'O', 'O', 'O', 'O', 'O', 'O', 'O', 'O', 'O', 'O', 'O', 'O', 'O', 'O', 'O', 'O', 'O', 'O']\n",
      "predicted_tags ['O', 'O', 'B-Medical_Examination', 'I-Medical_Examination', 'I-Medical_Examination', 'I-Medical_Examination', 'O', 'O', 'O', 'O', 'O', 'B-Medical_Examination', 'I-Medical_Examination', 'I-Medical_Examination', 'I-Medical_Examination', 'I-Medical_Examination', 'O', 'O', 'O', 'O', 'B-Medical_Examination', 'I-Medical_Examination', 'I-Medical_Examination', 'I-Medical_Examination', 'I-Medical_Examination', 'I-Medical_Examination', 'I-Medical_Examination', 'I-Medical_Examination', 'O', 'O', 'O', 'O', 'O', 'O', 'O', 'O', 'O', 'O', 'O', 'O', 'O', 'O', 'O', 'O', 'O', 'O', 'O', 'O', 'O', 'O', 'O', 'O', 'O', 'O', 'O']\n",
      "预测格式错误: index=32941, instruction=这个基因检测，主要是查先天性疾病的，和亲子鉴定的基因诊断，是完全不同的，一般不会牵扯到亲子关系的，不用太担心。, predicted_output=O O B-Medical_Examination I-Medical_Examination I-Medical_Examination I-Medical_Examination O O O O O B-Medical_Examination I-Medical_Examination I-Medical_Examination I-Medical_Examination I-Medical_Examination O O O O B-Medical_Examination I-Medical_Examination I-Medical_Examination I-Medical_Examination I-Medical_Examination I-Medical_Examination I-Medical_Examination I-Medical_Examination O O O O O O O O O O O O O O O O O O O O O O O O O O O\n"
     ]
    },
    {
     "name": "stderr",
     "output_type": "stream",
     "text": [
      " 84%|████████▍ | 84/100 [08:29<03:11, 11.97s/it]"
     ]
    },
    {
     "name": "stdout",
     "output_type": "stream",
     "text": [
      "actual_tags ['O', 'B-Symptom', 'I-Symptom', 'O', 'O', 'O', 'O', 'O', 'O']\n",
      "predicted_tags ['O', 'B-Symptom', 'I-Symptom', 'O', 'O', 'O', 'O', 'O', 'O']\n"
     ]
    },
    {
     "name": "stderr",
     "output_type": "stream",
     "text": [
      " 85%|████████▌ | 85/100 [08:38<02:48, 11.20s/it]"
     ]
    },
    {
     "name": "stdout",
     "output_type": "stream",
     "text": [
      "actual_tags ['O', 'O', 'O', 'O', 'O', 'O', 'O', 'O', 'O', 'O', 'O', 'O', 'O', 'B-Symptom', 'I-Symptom', 'B-Symptom', 'I-Symptom', 'O', 'O', 'O']\n",
      "predicted_tags ['O', 'O', 'O', 'O', 'O', 'O', 'O', 'O', 'O', 'O', 'O', 'O', 'O', 'B-Symptom', 'I-Symptom', 'B-Symptom', 'I-Symptom', 'O', 'O', 'O']\n"
     ]
    },
    {
     "name": "stderr",
     "output_type": "stream",
     "text": [
      " 86%|████████▌ | 86/100 [08:43<02:10,  9.31s/it]"
     ]
    },
    {
     "name": "stdout",
     "output_type": "stream",
     "text": [
      "actual_tags ['B-Operation', 'I-Operation', 'I-Operation', 'O', 'O', 'O']\n",
      "predicted_tags ['B-Symptom', 'I-Symptom', 'I-Symptom', 'O', 'O', 'O']\n",
      "预测格式错误: index=27161, instruction=肛门塞可以吗, predicted_output=B-Symptom I-Symptom I-Symptom O O O\n"
     ]
    },
    {
     "name": "stderr",
     "output_type": "stream",
     "text": [
      " 87%|████████▋ | 87/100 [08:51<01:55,  8.85s/it]"
     ]
    },
    {
     "name": "stdout",
     "output_type": "stream",
     "text": [
      "actual_tags ['B-Drug', 'I-Drug', 'O', 'O', 'O', 'O', 'O', 'O', 'O', 'B-Drug', 'I-Drug', 'I-Drug', 'O']\n",
      "predicted_tags ['B-Drug', 'I-Drug', 'O', 'O', 'O', 'O', 'O', 'O', 'O', 'B-Drug', 'I-Drug', 'I-Drug', 'O']\n"
     ]
    },
    {
     "name": "stderr",
     "output_type": "stream",
     "text": [
      " 88%|████████▊ | 88/100 [08:51<01:16,  6.38s/it]"
     ]
    },
    {
     "name": "stdout",
     "output_type": "stream",
     "text": [
      "actual_tags ['O']\n",
      "predicted_tags ['O']\n"
     ]
    },
    {
     "name": "stderr",
     "output_type": "stream",
     "text": [
      " 89%|████████▉ | 89/100 [08:53<00:54,  4.95s/it]"
     ]
    },
    {
     "name": "stdout",
     "output_type": "stream",
     "text": [
      "actual_tags ['O', 'O', 'O', 'O', 'O']\n",
      "predicted_tags ['O', 'O', 'O', 'O', 'O']\n"
     ]
    },
    {
     "name": "stderr",
     "output_type": "stream",
     "text": [
      " 90%|█████████ | 90/100 [08:58<00:49,  4.99s/it]"
     ]
    },
    {
     "name": "stdout",
     "output_type": "stream",
     "text": [
      "actual_tags ['O', 'O', 'O', 'O', 'O', 'O', 'O', 'O', 'O', 'O', 'O', 'O', 'O', 'O', 'O', 'O', 'O', 'O']\n",
      "predicted_tags ['O', 'O', 'O', 'O', 'O', 'O', 'O', 'O', 'O', 'O', 'O', 'O', 'O', 'O', 'O', 'O', 'O', 'O']\n"
     ]
    },
    {
     "name": "stderr",
     "output_type": "stream",
     "text": [
      " 91%|█████████ | 91/100 [09:00<00:36,  4.10s/it]"
     ]
    },
    {
     "name": "stdout",
     "output_type": "stream",
     "text": [
      "actual_tags ['O', 'O', 'O', 'O']\n",
      "predicted_tags ['O', 'O', 'O', 'O']\n"
     ]
    },
    {
     "name": "stderr",
     "output_type": "stream",
     "text": [
      " 92%|█████████▏| 92/100 [09:02<00:27,  3.41s/it]"
     ]
    },
    {
     "name": "stdout",
     "output_type": "stream",
     "text": [
      "actual_tags ['O', 'O', 'O', 'O']\n",
      "predicted_tags ['O', 'O', 'O', 'O']\n"
     ]
    },
    {
     "name": "stderr",
     "output_type": "stream",
     "text": [
      " 93%|█████████▎| 93/100 [09:04<00:20,  2.98s/it]"
     ]
    },
    {
     "name": "stdout",
     "output_type": "stream",
     "text": [
      "actual_tags ['O', 'O', 'O', 'O', 'O']\n",
      "predicted_tags ['O', 'O', 'O', 'O', 'O']\n"
     ]
    },
    {
     "name": "stderr",
     "output_type": "stream",
     "text": [
      " 94%|█████████▍| 94/100 [09:05<00:14,  2.39s/it]"
     ]
    },
    {
     "name": "stdout",
     "output_type": "stream",
     "text": [
      "actual_tags ['O', 'O']\n",
      "predicted_tags ['O', 'O']\n"
     ]
    },
    {
     "name": "stderr",
     "output_type": "stream",
     "text": [
      " 95%|█████████▌| 95/100 [09:07<00:11,  2.39s/it]"
     ]
    },
    {
     "name": "stdout",
     "output_type": "stream",
     "text": [
      "actual_tags ['O', 'O', 'O', 'O', 'O', 'O', 'O']\n",
      "predicted_tags ['O', 'O', 'O', 'O', 'O', 'O', 'O']\n"
     ]
    },
    {
     "name": "stderr",
     "output_type": "stream",
     "text": [
      " 96%|█████████▌| 96/100 [09:14<00:14,  3.68s/it]"
     ]
    },
    {
     "name": "stdout",
     "output_type": "stream",
     "text": [
      "actual_tags ['O', 'O', 'O', 'O', 'B-Symptom', 'I-Symptom', 'O', 'O', 'O', 'O', 'O', 'O', 'O', 'O', 'O', 'O', 'O', 'O', 'O']\n",
      "predicted_tags ['O', 'O', 'O', 'O', 'B-Symptom', 'I-Symptom', 'O', 'O', 'O', 'O', 'O', 'O', 'O', 'O', 'O', 'O', 'O', 'O', 'O']\n"
     ]
    },
    {
     "name": "stderr",
     "output_type": "stream",
     "text": [
      " 97%|█████████▋| 97/100 [09:28<00:19,  6.66s/it]"
     ]
    },
    {
     "name": "stdout",
     "output_type": "stream",
     "text": [
      "actual_tags ['O', 'O', 'O', 'O', 'O', 'O', 'O', 'B-Symptom', 'I-Symptom', 'I-Symptom', 'I-Symptom', 'I-Symptom', 'I-Symptom', 'I-Symptom', 'O', 'O', 'O', 'B-Symptom', 'I-Symptom', 'I-Symptom', 'I-Symptom', 'I-Symptom', 'O', 'O', 'O', 'O']\n",
      "predicted_tags ['O', 'O', 'O', 'O', 'O', 'O', 'O', 'O', 'O', 'O', 'B-Symptom', 'I-Symptom', 'I-Symptom', 'I-Symptom', 'O', 'O', 'O', 'B-Symptom', 'I-Symptom', 'I-Symptom', 'I-Symptom', 'I-Symptom', 'O', 'O', 'O', 'O']\n",
      "预测格式错误: index=31758, instruction=可能的原因，一慢性的支气管炎，二，过敏性咳嗽的可能。, predicted_output=O O O O O O O O O O B-Symptom I-Symptom I-Symptom I-Symptom O O O B-Symptom I-Symptom I-Symptom I-Symptom I-Symptom O O O O\n"
     ]
    },
    {
     "name": "stderr",
     "output_type": "stream",
     "text": [
      " 98%|█████████▊| 98/100 [09:30<00:10,  5.44s/it]"
     ]
    },
    {
     "name": "stdout",
     "output_type": "stream",
     "text": [
      "actual_tags ['O', 'O', 'O', 'O', 'O', 'O', 'O', 'O', 'O']\n",
      "predicted_tags ['O', 'O', 'O', 'O', 'O', 'O', 'O', 'O', 'O']\n"
     ]
    },
    {
     "name": "stderr",
     "output_type": "stream",
     "text": [
      " 99%|█████████▉| 99/100 [09:34<00:04,  4.92s/it]"
     ]
    },
    {
     "name": "stdout",
     "output_type": "stream",
     "text": [
      "actual_tags ['O', 'O', 'O', 'O', 'O', 'O', 'O', 'O', 'O', 'O', 'O', 'O', 'O', 'O']\n",
      "predicted_tags ['O', 'O', 'O', 'O', 'O', 'O', 'O', 'O', 'O', 'O', 'O', 'O', 'O', 'O']\n"
     ]
    },
    {
     "name": "stderr",
     "output_type": "stream",
     "text": [
      "100%|██████████| 100/100 [09:35<00:00,  5.76s/it]"
     ]
    },
    {
     "name": "stdout",
     "output_type": "stream",
     "text": [
      "actual_tags ['O', 'O', 'O', 'O', 'O']\n",
      "predicted_tags ['O', 'O', 'O', 'O', 'O']\n",
      "输出格式问题的条目个数： 14\n"
     ]
    },
    {
     "name": "stderr",
     "output_type": "stream",
     "text": [
      "\n"
     ]
    }
   ],
   "source": [
    "import json\n",
    "import pandas as pd\n",
    "import numpy as np\n",
    "from tqdm import tqdm\n",
    "from sklearn.metrics import precision_score, recall_score, f1_score, accuracy_score\n",
    "from transformers import AutoModelForCausalLM, AutoTokenizer\n",
    "\n",
    "# 加载模型和 tokenizer\n",
    "model_path = \"./Qwen2.5-0.5B-Instruct-jinm\"\n",
    "tokenizer = AutoTokenizer.from_pretrained(model_path)\n",
    "model = AutoModelForCausalLM.from_pretrained(model_path)\n",
    "\n",
    "def get_bio_tags(text):\n",
    "    \"\"\"\n",
    "    调用大模型进行 BIO 标签预测\n",
    "    \"\"\"\n",
    "    sys_prompt = \"\"\"\n",
    "    你是一个医疗命名实体专家！请根据当前对话文本内容，识别出每一句话中的BIO实体标签\n",
    "    \"\"\"\n",
    "    messages = [\n",
    "        {\"role\": \"system\", \"content\": sys_prompt},\n",
    "        {\"role\": \"user\", \"content\": text}\n",
    "    ]\n",
    "\n",
    "    text = tokenizer.apply_chat_template(messages, tokenize=False, add_generation_prompt=True)\n",
    "    model_inputs = tokenizer([text], return_tensors=\"pt\").to(model.device)\n",
    "    generated_ids = model.generate(**model_inputs, max_new_tokens=512)\n",
    "    generated_ids = [output_ids[len(input_ids):] for input_ids, output_ids in zip(model_inputs.input_ids, generated_ids)]\n",
    "    response = tokenizer.batch_decode(generated_ids, skip_special_tokens=True)[0]\n",
    "    return response\n",
    "\n",
    "def calculate_f1(y_true, y_pred):\n",
    "    \"\"\"\n",
    "    计算 F1 分数\n",
    "    \"\"\"\n",
    "    true_labels = [label.split() for label in y_true]\n",
    "    pred_labels = [label.split() for label in y_pred]\n",
    "\n",
    "    true_labels_flat = [item for sublist in true_labels for item in sublist]\n",
    "    print(\"true_labels_flat:\", true_labels_flat)\n",
    "    pred_labels_flat = [item for sublist in pred_labels for item in sublist]\n",
    "    print(\"pred_labels_flat\", pred_labels_flat)\n",
    "\n",
    "    precision = precision_score(true_labels_flat, pred_labels_flat, average='micro')\n",
    "    recall = recall_score(true_labels_flat, pred_labels_flat, average='micro')\n",
    "    f1 = f1_score(true_labels_flat, pred_labels_flat, average='micro')\n",
    "    accuracy = accuracy_score(true_labels_flat, pred_labels_flat)\n",
    "    return precision, recall, f1\n",
    "\n",
    "# 读取 TSV 文件\n",
    "data = pd.read_csv(\"dev.tsv\", sep='\\t', encoding='utf8')\n",
    "\n",
    "# 随机抽取100条数据\n",
    "sampled_data = data.sample(n=100, random_state=42)\n",
    "\n",
    "results = []\n",
    "predicted_labels = []\n",
    "true_labels = list(sampled_data[\"output\"])\n",
    "\n",
    "# 创建列表来存储预测内容\n",
    "predictions = []\n",
    "problematic = 0\n",
    "\n",
    "for idx, row in tqdm(sampled_data.iterrows(), total=len(sampled_data)):\n",
    "    instruction = row[\"instruction\"]\n",
    "    actual_output = row[\"output\"]\n",
    "\n",
    "    # 获取预测输出\n",
    "    predicted_output = get_bio_tags(instruction).strip()  # 去掉首尾空白字符\n",
    "\n",
    "    # 检查预测输出和实际输出的位置和标签是否一致，仅需对比\n",
    "    actual_tags = actual_output.split()\n",
    "    print(\"actual_tags\",actual_tags)\n",
    "    predicted_tags = predicted_output.split()\n",
    "    print(\"predicted_tags\",predicted_tags)\n",
    "\n",
    "    if len(predicted_tags) != len(actual_tags) or predicted_tags != actual_tags:\n",
    "        print(f\"预测格式错误: index={idx}, instruction={instruction}, predicted_output={predicted_output}\")\n",
    "        # predicted_output = \"O \" * len(actual_tags)  # 使用默认值避免程序中断\n",
    "        predicted_output = \"X \" * len(actual_tags)  # 使用默认值避免程序中断\n",
    "        predicted_output = predicted_output.strip()  # 去掉最后的多余空格\n",
    "        problematic += 1\n",
    "\n",
    "    # 将 predicted_output 添加到 predicted_labels 列表中\n",
    "    predicted_labels.append(predicted_output)\n",
    "    predictions.append([instruction, actual_output, predicted_output])\n",
    "    results.append(predicted_output == actual_output)\n",
    "\n",
    "print(f\"输出格式问题的条目个数： {problematic}\")"
   ]
  },
  {
   "cell_type": "code",
   "execution_count": 2,
   "id": "a931607b-fa07-49ad-abe8-d369d7a497ab",
   "metadata": {},
   "outputs": [
    {
     "name": "stdout",
     "output_type": "stream",
     "text": [
      "true_labels_flat: ['O', 'O', 'O', 'B-Drug', 'I-Drug', 'I-Drug', 'O', 'O', 'O', 'O', 'O', 'O', 'O', 'O', 'O', 'O', 'O', 'O', 'O', 'O', 'O', 'O', 'O', 'O', 'O', 'O', 'O', 'O', 'O', 'O', 'O', 'O', 'B-Symptom', 'I-Symptom', 'O', 'O', 'O', 'O', 'O', 'O', 'O', 'O', 'O', 'O', 'O', 'O', 'O', 'O', 'O', 'B-Operation', 'I-Operation', 'O', 'O', 'O', 'O', 'O', 'O', 'O', 'O', 'O', 'O', 'O', 'O', 'O', 'O', 'O', 'O', 'O', 'O', 'O', 'B-Symptom', 'I-Symptom', 'O', 'O', 'O', 'O', 'O', 'O', 'O', 'O', 'O', 'O', 'O', 'B-Symptom', 'I-Symptom', 'O', 'O', 'O', 'O', 'B-Drug_Category', 'I-Drug_Category', 'I-Drug_Category', 'I-Drug_Category', 'I-Drug_Category', 'I-Drug_Category', 'O', 'O', 'O', 'O', 'O', 'O', 'O', 'O', 'O', 'O', 'O', 'O', 'B-Drug', 'I-Drug', 'I-Drug', 'I-Drug', 'O', 'B-Drug', 'I-Drug', 'I-Drug', 'I-Drug', 'I-Drug', 'O', 'O', 'O', 'O', 'O', 'O', 'O', 'O', 'O', 'O', 'O', 'O', 'O', 'O', 'O', 'O', 'O', 'B-Drug', 'I-Drug', 'I-Drug', 'I-Drug', 'B-Drug', 'I-Drug', 'I-Drug', 'I-Drug', 'I-Drug', 'I-Drug', 'O', 'O', 'B-Symptom', 'I-Symptom', 'I-Symptom', 'I-Symptom', 'O', 'O', 'O', 'O', 'O', 'O', 'O', 'O', 'B-Symptom', 'I-Symptom', 'O', 'B-Symptom', 'I-Symptom', 'O', 'O', 'B-Symptom', 'I-Symptom', 'O', 'B-Drug', 'I-Drug', 'I-Drug', 'I-Drug', 'O', 'O', 'O', 'O', 'O', 'O', 'O', 'O', 'O', 'O', 'O', 'O', 'O', 'O', 'O', 'O', 'O', 'O', 'O', 'O', 'B-Operation', 'I-Operation', 'O', 'O', 'O', 'O', 'O', 'O', 'O', 'O', 'O', 'O', 'O', 'O', 'O', 'O', 'O', 'O', 'O', 'O', 'O', 'O', 'O', 'O', 'O', 'O', 'O', 'B-Symptom', 'I-Symptom', 'O', 'B-Symptom', 'O', 'O', 'O', 'O', 'O', 'B-Symptom', 'I-Symptom', 'O', 'O', 'O', 'O', 'O', 'O', 'O', 'O', 'O', 'O', 'O', 'O', 'O', 'O', 'O', 'O', 'O', 'O', 'O', 'O', 'O', 'O', 'B-Drug', 'I-Drug', 'I-Drug', 'O', 'O', 'B-Drug', 'I-Drug', 'I-Drug', 'I-Drug', 'I-Drug', 'I-Drug', 'O', 'O', 'B-Symptom', 'I-Symptom', 'I-Symptom', 'I-Symptom', 'I-Symptom', 'O', 'O', 'B-Drug_Category', 'I-Drug_Category', 'I-Drug_Category', 'O', 'O', 'O', 'B-Symptom', 'I-Symptom', 'B-Drug', 'I-Drug', 'I-Drug', 'O', 'O', 'O', 'O', 'O', 'O', 'O', 'O', 'O', 'O', 'O', 'O', 'O', 'O', 'O', 'O', 'O', 'O', 'O', 'O', 'O', 'O', 'O', 'O', 'O', 'O', 'O', 'O', 'O', 'O', 'O', 'O', 'O', 'O', 'O', 'O', 'O', 'B-Symptom', 'I-Symptom', 'O', 'O', 'O', 'O', 'O', 'B-Medical_Examination', 'I-Medical_Examination', 'I-Medical_Examination', 'O', 'O', 'B-Symptom', 'I-Symptom', 'I-Symptom', 'I-Symptom', 'O', 'O', 'O', 'O', 'O', 'O', 'O', 'O', 'O', 'O', 'O', 'O', 'O', 'B-Symptom', 'I-Symptom', 'I-Symptom', 'I-Symptom', 'I-Symptom', 'O', 'O', 'O', 'O', 'O', 'O', 'O', 'O', 'O', 'O', 'O', 'O', 'O', 'O', 'B-Symptom', 'I-Symptom', 'I-Symptom', 'I-Symptom', 'I-Symptom', 'O', 'O', 'O', 'O', 'O', 'O', 'O', 'O', 'O', 'O', 'B-Medical_Examination', 'I-Medical_Examination', 'I-Medical_Examination', 'I-Medical_Examination', 'O', 'O', 'O', 'O', 'O', 'O', 'B-Drug', 'I-Drug', 'I-Drug', 'I-Drug', 'I-Drug', 'I-Drug', 'I-Drug', 'I-Drug', 'B-Symptom', 'I-Symptom', 'I-Symptom', 'B-Symptom', 'I-Symptom', 'I-Symptom', 'O', 'O', 'O', 'O', 'O', 'O', 'O', 'O', 'O', 'O', 'O', 'O', 'O', 'O', 'O', 'O', 'B-Symptom', 'O', 'O', 'O', 'O', 'O', 'O', 'O', 'O', 'O', 'O', 'O', 'O', 'O', 'O', 'O', 'O', 'O', 'O', 'O', 'O', 'O', 'O', 'O', 'O', 'O', 'O', 'O', 'O', 'O', 'O', 'O', 'O', 'O', 'O', 'O', 'O', 'O', 'O', 'O', 'O', 'O', 'O', 'O', 'O', 'O', 'O', 'O', 'O', 'O', 'O', 'O', 'O', 'O', 'O', 'O', 'O', 'O', 'O', 'B-Symptom', 'I-Symptom', 'O', 'O', 'O', 'O', 'O', 'O', 'O', 'O', 'O', 'O', 'O', 'O', 'O', 'O', 'O', 'O', 'O', 'O', 'O', 'O', 'O', 'O', 'O', 'O', 'O', 'O', 'O', 'O', 'O', 'O', 'O', 'O', 'B-Drug_Category', 'I-Drug_Category', 'I-Drug_Category', 'I-Drug_Category', 'O', 'B-Drug_Category', 'I-Drug_Category', 'I-Drug_Category', 'O', 'O', 'O', 'O', 'O', 'O', 'O', 'O', 'O', 'O', 'O', 'O', 'O', 'O', 'O', 'O', 'O', 'O', 'O', 'O', 'O', 'O', 'O', 'O', 'O', 'B-Operation', 'I-Operation', 'O', 'O', 'O', 'O', 'O', 'O', 'O', 'O', 'O', 'O', 'O', 'O', 'O', 'O', 'O', 'O', 'O', 'B-Drug', 'I-Drug', 'O', 'O', 'B-Symptom', 'I-Symptom', 'O', 'O', 'O', 'O', 'O', 'O', 'O', 'O', 'O', 'O', 'O', 'O', 'O', 'O', 'O', 'O', 'O', 'O', 'O', 'O', 'O', 'O', 'O', 'O', 'O', 'O', 'O', 'O', 'O', 'O', 'O', 'O', 'O', 'O', 'O', 'O', 'O', 'O', 'O', 'O', 'O', 'O', 'O', 'B-Operation', 'I-Operation', 'I-Operation', 'I-Operation', 'O', 'O', 'O', 'O', 'O', 'O', 'O', 'O', 'O', 'O', 'O', 'O', 'O', 'O', 'O', 'O', 'O', 'O', 'O', 'O', 'O', 'O', 'O', 'O', 'B-Symptom', 'I-Symptom', 'I-Symptom', 'I-Symptom', 'I-Symptom', 'I-Symptom', 'I-Symptom', 'O', 'O', 'O', 'O', 'B-Drug', 'I-Drug', 'B-Drug_Category', 'I-Drug_Category', 'I-Drug_Category', 'O', 'O', 'O', 'B-Drug', 'I-Drug', 'I-Drug', 'I-Drug', 'I-Drug', 'I-Drug', 'O', 'B-Drug', 'I-Drug', 'O', 'O', 'O', 'O', 'O', 'O', 'O', 'O', 'O', 'O', 'O', 'O', 'O', 'O', 'O', 'O', 'O', 'O', 'O', 'O', 'O', 'O', 'O', 'O', 'O', 'O', 'O', 'O', 'B-Symptom', 'I-Symptom', 'I-Symptom', 'I-Symptom', 'I-Symptom', 'I-Symptom', 'O', 'O', 'O', 'O', 'O', 'O', 'O', 'O', 'O', 'O', 'O', 'O', 'O', 'B-Symptom', 'I-Symptom', 'O', 'O', 'O', 'O', 'O', 'O', 'O', 'B-Symptom', 'O', 'B-Symptom', 'I-Symptom', 'I-Symptom', 'O', 'O', 'O', 'O', 'O', 'O', 'O', 'O', 'O', 'O', 'B-Symptom', 'I-Symptom', 'I-Symptom', 'O', 'B-Symptom', 'I-Symptom', 'O', 'O', 'O', 'O', 'O', 'O', 'O', 'O', 'O', 'O', 'O', 'O', 'O', 'O', 'O', 'O', 'O', 'O', 'O', 'O', 'O', 'O', 'O', 'O', 'O', 'O', 'O', 'O', 'O', 'O', 'O', 'O', 'O', 'O', 'O', 'O', 'O', 'O', 'O', 'O', 'O', 'O', 'O', 'O', 'O', 'O', 'O', 'O', 'O', 'O', 'O', 'O', 'O', 'O', 'O', 'O', 'O', 'O', 'O', 'O', 'O', 'O', 'O', 'O', 'O', 'O', 'O', 'O', 'O', 'O', 'O', 'O', 'O', 'O', 'O', 'B-Symptom', 'I-Symptom', 'O', 'O', 'O', 'O', 'O', 'O', 'O', 'O', 'O', 'O', 'O', 'O', 'O', 'B-Symptom', 'I-Symptom', 'I-Symptom', 'I-Symptom', 'I-Symptom', 'O', 'O', 'O', 'O', 'O', 'O', 'O', 'O', 'O', 'O', 'O', 'O', 'O', 'O', 'O', 'O', 'O', 'O', 'O', 'O', 'O', 'O', 'O', 'O', 'O', 'O', 'O', 'O', 'O', 'O', 'B-Symptom', 'I-Symptom', 'I-Symptom', 'I-Symptom', 'I-Symptom', 'O', 'O', 'O', 'O', 'O', 'O', 'O', 'O', 'O', 'O', 'O', 'O', 'O', 'O', 'O', 'O', 'O', 'O', 'O', 'O', 'O', 'O', 'O', 'O', 'O', 'O', 'O', 'O', 'O', 'O', 'O', 'O', 'O', 'O', 'O', 'O', 'O', 'O', 'O', 'O', 'O', 'O', 'O', 'O', 'O', 'O', 'O', 'O', 'O', 'O', 'O', 'O', 'O', 'O', 'B-Symptom', 'O', 'O', 'O', 'O', 'B-Symptom', 'I-Symptom', 'O', 'O', 'O', 'O', 'O', 'O', 'O', 'O', 'O', 'O', 'O', 'O', 'O', 'O', 'O', 'O', 'O', 'B-Symptom', 'I-Symptom', 'O', 'O', 'O', 'O', 'O', 'O', 'O', 'O', 'O', 'B-Symptom', 'O', 'B-Symptom', 'I-Symptom', 'O', 'O', 'O', 'O', 'O', 'O', 'O', 'O', 'O', 'O', 'O', 'O', 'O', 'O', 'O', 'O', 'O', 'O', 'O', 'B-Symptom', 'I-Symptom', 'O', 'O', 'O', 'O', 'O', 'O', 'O', 'O', 'O', 'O', 'O', 'O', 'O', 'O', 'O', 'O', 'O', 'O', 'O', 'O', 'O', 'B-Symptom', 'I-Symptom', 'O', 'B-Symptom', 'O', 'O', 'O', 'O', 'O', 'O', 'O', 'O', 'O', 'O', 'O', 'O', 'O', 'O', 'O', 'O', 'O', 'O', 'O', 'O', 'O', 'O', 'O', 'O', 'O', 'O', 'O', 'O', 'O', 'O', 'O', 'O', 'O', 'O', 'O', 'O', 'O', 'O', 'O', 'O', 'O', 'O', 'O', 'O', 'O', 'O', 'O', 'O', 'O', 'O', 'O', 'O', 'O', 'O', 'O', 'O', 'O', 'O', 'B-Symptom', 'I-Symptom', 'O', 'O', 'O', 'O', 'O', 'O', 'O', 'O', 'O', 'O', 'O', 'O', 'O', 'O', 'O', 'O', 'O', 'O', 'O', 'B-Symptom', 'I-Symptom', 'B-Symptom', 'I-Symptom', 'O', 'O', 'O', 'B-Operation', 'I-Operation', 'I-Operation', 'O', 'O', 'O', 'B-Drug', 'I-Drug', 'O', 'O', 'O', 'O', 'O', 'O', 'O', 'B-Drug', 'I-Drug', 'I-Drug', 'O', 'O', 'O', 'O', 'O', 'O', 'O', 'O', 'O', 'O', 'O', 'O', 'O', 'O', 'O', 'O', 'O', 'O', 'O', 'O', 'O', 'O', 'O', 'O', 'O', 'O', 'O', 'O', 'O', 'O', 'O', 'O', 'O', 'O', 'O', 'O', 'O', 'O', 'O', 'O', 'O', 'O', 'O', 'O', 'O', 'O', 'O', 'O', 'O', 'O', 'O', 'B-Symptom', 'I-Symptom', 'O', 'O', 'O', 'O', 'O', 'O', 'O', 'O', 'O', 'O', 'O', 'O', 'O', 'O', 'O', 'O', 'O', 'O', 'O', 'O', 'B-Symptom', 'I-Symptom', 'I-Symptom', 'I-Symptom', 'I-Symptom', 'I-Symptom', 'I-Symptom', 'O', 'O', 'O', 'B-Symptom', 'I-Symptom', 'I-Symptom', 'I-Symptom', 'I-Symptom', 'O', 'O', 'O', 'O', 'O', 'O', 'O', 'O', 'O', 'O', 'O', 'O', 'O', 'O', 'O', 'O', 'O', 'O', 'O', 'O', 'O', 'O', 'O', 'O', 'O', 'O', 'O', 'O', 'O', 'O', 'O', 'O']\n",
      "pred_labels_flat ['O', 'O', 'O', 'B-Drug', 'I-Drug', 'I-Drug', 'O', 'O', 'O', 'O', 'O', 'O', 'O', 'O', 'O', 'O', 'O', 'O', 'O', 'O', 'O', 'O', 'O', 'O', 'O', 'O', 'O', 'O', 'O', 'O', 'O', 'O', 'B-Symptom', 'I-Symptom', 'X', 'X', 'X', 'X', 'X', 'X', 'X', 'X', 'X', 'X', 'X', 'X', 'X', 'X', 'X', 'X', 'X', 'X', 'X', 'X', 'X', 'X', 'X', 'X', 'X', 'X', 'X', 'X', 'X', 'X', 'X', 'X', 'X', 'X', 'X', 'X', 'X', 'X', 'O', 'O', 'O', 'O', 'O', 'O', 'O', 'O', 'O', 'O', 'O', 'B-Symptom', 'I-Symptom', 'O', 'O', 'O', 'O', 'B-Drug_Category', 'I-Drug_Category', 'I-Drug_Category', 'I-Drug_Category', 'I-Drug_Category', 'I-Drug_Category', 'O', 'O', 'O', 'O', 'O', 'O', 'O', 'O', 'O', 'O', 'O', 'O', 'B-Drug', 'I-Drug', 'I-Drug', 'I-Drug', 'O', 'B-Drug', 'I-Drug', 'I-Drug', 'I-Drug', 'I-Drug', 'O', 'O', 'O', 'O', 'O', 'O', 'O', 'O', 'O', 'O', 'O', 'O', 'O', 'O', 'O', 'O', 'O', 'B-Drug', 'I-Drug', 'I-Drug', 'I-Drug', 'B-Drug', 'I-Drug', 'I-Drug', 'I-Drug', 'I-Drug', 'I-Drug', 'O', 'O', 'B-Symptom', 'I-Symptom', 'I-Symptom', 'I-Symptom', 'O', 'O', 'O', 'O', 'O', 'O', 'O', 'O', 'B-Symptom', 'I-Symptom', 'O', 'B-Symptom', 'I-Symptom', 'O', 'O', 'B-Symptom', 'I-Symptom', 'O', 'B-Drug', 'I-Drug', 'I-Drug', 'I-Drug', 'O', 'O', 'X', 'X', 'X', 'X', 'X', 'O', 'O', 'O', 'O', 'O', 'O', 'O', 'O', 'O', 'O', 'O', 'O', 'O', 'B-Operation', 'I-Operation', 'O', 'X', 'X', 'X', 'X', 'X', 'X', 'X', 'X', 'X', 'X', 'X', 'X', 'X', 'X', 'X', 'X', 'X', 'X', 'X', 'X', 'X', 'X', 'X', 'X', 'B-Symptom', 'I-Symptom', 'O', 'B-Symptom', 'O', 'O', 'O', 'O', 'O', 'B-Symptom', 'I-Symptom', 'O', 'O', 'O', 'O', 'O', 'O', 'O', 'O', 'O', 'O', 'O', 'O', 'O', 'O', 'O', 'O', 'O', 'O', 'O', 'O', 'O', 'O', 'B-Drug', 'I-Drug', 'I-Drug', 'O', 'O', 'B-Drug', 'I-Drug', 'I-Drug', 'I-Drug', 'I-Drug', 'I-Drug', 'X', 'X', 'X', 'X', 'X', 'X', 'X', 'X', 'X', 'X', 'X', 'X', 'X', 'X', 'X', 'X', 'X', 'B-Drug', 'I-Drug', 'I-Drug', 'O', 'O', 'O', 'O', 'O', 'O', 'O', 'O', 'O', 'O', 'O', 'O', 'O', 'O', 'O', 'O', 'O', 'O', 'O', 'O', 'O', 'O', 'O', 'O', 'O', 'O', 'O', 'O', 'O', 'O', 'O', 'O', 'O', 'O', 'O', 'O', 'O', 'B-Symptom', 'I-Symptom', 'O', 'O', 'O', 'O', 'O', 'B-Medical_Examination', 'I-Medical_Examination', 'I-Medical_Examination', 'O', 'O', 'B-Symptom', 'I-Symptom', 'I-Symptom', 'I-Symptom', 'O', 'O', 'O', 'O', 'O', 'O', 'O', 'O', 'O', 'O', 'O', 'O', 'O', 'B-Symptom', 'I-Symptom', 'I-Symptom', 'I-Symptom', 'I-Symptom', 'O', 'O', 'O', 'O', 'O', 'O', 'O', 'O', 'O', 'O', 'O', 'O', 'O', 'O', 'B-Symptom', 'I-Symptom', 'I-Symptom', 'I-Symptom', 'I-Symptom', 'O', 'O', 'O', 'O', 'O', 'O', 'O', 'O', 'O', 'O', 'B-Medical_Examination', 'I-Medical_Examination', 'I-Medical_Examination', 'I-Medical_Examination', 'O', 'O', 'O', 'O', 'O', 'O', 'B-Drug', 'I-Drug', 'I-Drug', 'I-Drug', 'I-Drug', 'I-Drug', 'I-Drug', 'I-Drug', 'B-Symptom', 'I-Symptom', 'I-Symptom', 'B-Symptom', 'I-Symptom', 'I-Symptom', 'O', 'O', 'O', 'O', 'O', 'O', 'O', 'O', 'O', 'O', 'O', 'O', 'O', 'O', 'O', 'O', 'B-Symptom', 'O', 'O', 'O', 'O', 'O', 'O', 'O', 'O', 'O', 'O', 'O', 'O', 'O', 'O', 'O', 'O', 'O', 'O', 'O', 'X', 'X', 'X', 'X', 'X', 'O', 'O', 'O', 'O', 'O', 'O', 'O', 'O', 'O', 'O', 'O', 'O', 'O', 'O', 'O', 'O', 'O', 'O', 'O', 'O', 'O', 'O', 'O', 'O', 'O', 'O', 'O', 'O', 'O', 'O', 'O', 'O', 'O', 'O', 'B-Symptom', 'I-Symptom', 'O', 'O', 'O', 'O', 'O', 'O', 'O', 'O', 'O', 'O', 'O', 'O', 'O', 'O', 'O', 'O', 'O', 'O', 'O', 'O', 'O', 'O', 'O', 'O', 'O', 'X', 'X', 'X', 'X', 'X', 'X', 'X', 'X', 'X', 'X', 'X', 'X', 'X', 'X', 'X', 'X', 'X', 'O', 'O', 'O', 'O', 'O', 'O', 'O', 'O', 'O', 'O', 'O', 'O', 'O', 'O', 'O', 'O', 'O', 'O', 'O', 'O', 'O', 'O', 'O', 'B-Operation', 'I-Operation', 'O', 'O', 'O', 'O', 'O', 'O', 'O', 'O', 'O', 'O', 'O', 'O', 'O', 'O', 'O', 'O', 'O', 'B-Drug', 'I-Drug', 'O', 'O', 'B-Symptom', 'I-Symptom', 'O', 'O', 'O', 'O', 'O', 'O', 'O', 'O', 'O', 'O', 'O', 'O', 'O', 'O', 'O', 'O', 'O', 'O', 'O', 'O', 'O', 'O', 'O', 'O', 'O', 'O', 'O', 'O', 'O', 'O', 'O', 'O', 'O', 'O', 'O', 'O', 'O', 'O', 'O', 'O', 'O', 'O', 'O', 'B-Operation', 'I-Operation', 'I-Operation', 'I-Operation', 'O', 'O', 'O', 'O', 'O', 'O', 'O', 'O', 'O', 'O', 'O', 'O', 'X', 'X', 'X', 'X', 'X', 'X', 'X', 'X', 'X', 'X', 'X', 'X', 'X', 'X', 'X', 'X', 'X', 'X', 'X', 'X', 'X', 'X', 'X', 'X', 'X', 'X', 'X', 'X', 'X', 'O', 'O', 'B-Drug', 'I-Drug', 'I-Drug', 'I-Drug', 'I-Drug', 'I-Drug', 'O', 'B-Drug', 'I-Drug', 'O', 'O', 'O', 'O', 'O', 'O', 'O', 'O', 'O', 'O', 'O', 'O', 'O', 'O', 'O', 'X', 'X', 'X', 'X', 'X', 'X', 'X', 'X', 'X', 'X', 'X', 'X', 'X', 'X', 'X', 'X', 'X', 'X', 'X', 'X', 'X', 'X', 'X', 'X', 'X', 'X', 'X', 'X', 'X', 'X', 'X', 'X', 'X', 'X', 'X', 'X', 'X', 'O', 'O', 'O', 'O', 'B-Symptom', 'O', 'B-Symptom', 'I-Symptom', 'I-Symptom', 'O', 'O', 'O', 'O', 'O', 'O', 'O', 'O', 'O', 'O', 'B-Symptom', 'I-Symptom', 'I-Symptom', 'O', 'B-Symptom', 'I-Symptom', 'O', 'O', 'O', 'O', 'O', 'O', 'O', 'O', 'O', 'O', 'O', 'O', 'O', 'O', 'O', 'O', 'O', 'O', 'O', 'O', 'O', 'O', 'O', 'O', 'O', 'O', 'O', 'O', 'O', 'O', 'O', 'O', 'O', 'O', 'O', 'O', 'O', 'O', 'O', 'O', 'O', 'O', 'O', 'O', 'O', 'O', 'O', 'O', 'O', 'O', 'O', 'O', 'O', 'O', 'O', 'O', 'O', 'O', 'O', 'O', 'O', 'O', 'O', 'O', 'O', 'O', 'O', 'O', 'O', 'O', 'O', 'O', 'O', 'O', 'O', 'B-Symptom', 'I-Symptom', 'O', 'O', 'O', 'O', 'O', 'O', 'O', 'O', 'O', 'O', 'O', 'O', 'O', 'B-Symptom', 'I-Symptom', 'I-Symptom', 'I-Symptom', 'I-Symptom', 'O', 'O', 'O', 'O', 'O', 'O', 'O', 'O', 'O', 'O', 'O', 'O', 'O', 'O', 'O', 'O', 'O', 'O', 'O', 'O', 'O', 'O', 'O', 'O', 'O', 'O', 'O', 'O', 'O', 'O', 'X', 'X', 'X', 'X', 'X', 'X', 'X', 'X', 'X', 'X', 'X', 'X', 'X', 'O', 'O', 'O', 'O', 'O', 'O', 'O', 'O', 'O', 'O', 'O', 'O', 'O', 'X', 'X', 'X', 'X', 'X', 'X', 'X', 'X', 'X', 'X', 'X', 'X', 'X', 'X', 'X', 'X', 'X', 'X', 'X', 'X', 'O', 'O', 'O', 'O', 'O', 'O', 'O', 'O', 'O', 'O', 'O', 'O', 'O', 'B-Symptom', 'O', 'O', 'O', 'O', 'B-Symptom', 'I-Symptom', 'O', 'O', 'O', 'O', 'O', 'O', 'O', 'O', 'O', 'O', 'O', 'O', 'O', 'O', 'O', 'O', 'O', 'X', 'X', 'X', 'X', 'X', 'X', 'X', 'X', 'X', 'X', 'X', 'X', 'X', 'X', 'X', 'X', 'X', 'X', 'X', 'X', 'X', 'X', 'X', 'X', 'X', 'X', 'X', 'X', 'X', 'X', 'X', 'X', 'X', 'X', 'X', 'X', 'X', 'X', 'X', 'X', 'X', 'X', 'X', 'X', 'X', 'X', 'X', 'X', 'X', 'X', 'X', 'O', 'O', 'O', 'O', 'O', 'O', 'B-Symptom', 'I-Symptom', 'O', 'B-Symptom', 'O', 'O', 'X', 'X', 'X', 'X', 'X', 'X', 'X', 'X', 'X', 'X', 'X', 'X', 'X', 'X', 'X', 'X', 'X', 'X', 'X', 'X', 'X', 'X', 'X', 'X', 'X', 'X', 'X', 'X', 'X', 'X', 'X', 'X', 'X', 'X', 'X', 'X', 'X', 'X', 'X', 'X', 'X', 'X', 'X', 'X', 'X', 'X', 'X', 'X', 'X', 'X', 'X', 'X', 'X', 'X', 'X', 'O', 'B-Symptom', 'I-Symptom', 'O', 'O', 'O', 'O', 'O', 'O', 'O', 'O', 'O', 'O', 'O', 'O', 'O', 'O', 'O', 'O', 'O', 'O', 'O', 'B-Symptom', 'I-Symptom', 'B-Symptom', 'I-Symptom', 'O', 'O', 'O', 'X', 'X', 'X', 'X', 'X', 'X', 'B-Drug', 'I-Drug', 'O', 'O', 'O', 'O', 'O', 'O', 'O', 'B-Drug', 'I-Drug', 'I-Drug', 'O', 'O', 'O', 'O', 'O', 'O', 'O', 'O', 'O', 'O', 'O', 'O', 'O', 'O', 'O', 'O', 'O', 'O', 'O', 'O', 'O', 'O', 'O', 'O', 'O', 'O', 'O', 'O', 'O', 'O', 'O', 'O', 'O', 'O', 'O', 'O', 'O', 'O', 'O', 'O', 'O', 'O', 'O', 'O', 'O', 'O', 'O', 'O', 'O', 'O', 'O', 'B-Symptom', 'I-Symptom', 'O', 'O', 'O', 'O', 'O', 'O', 'O', 'O', 'O', 'O', 'O', 'O', 'O', 'X', 'X', 'X', 'X', 'X', 'X', 'X', 'X', 'X', 'X', 'X', 'X', 'X', 'X', 'X', 'X', 'X', 'X', 'X', 'X', 'X', 'X', 'X', 'X', 'X', 'X', 'O', 'O', 'O', 'O', 'O', 'O', 'O', 'O', 'O', 'O', 'O', 'O', 'O', 'O', 'O', 'O', 'O', 'O', 'O', 'O', 'O', 'O', 'O', 'O', 'O', 'O', 'O', 'O']\n",
      "精确率(Precision): 0.7240547063555913\n",
      "召回率(Recall): 0.7240547063555913\n",
      "F1 分数(F1 Score): 0.7240547063555913\n",
      "[['家里有康崔乐', 'O O O B-Drug I-Drug I-Drug', 'O O O B-Drug I-Drug I-Drug'], ['但是反反复复这样。所以很担心', 'O O O O O O O O O O O O O O', 'O O O O O O O O O O O O O O'], ['最好化验一下，查看是哪种腹泻', 'O O O O O O O O O O O O B-Symptom I-Symptom', 'O O O O O O O O O O O O B-Symptom I-Symptom'], ['注意孩子拉的很多的话，注意适当补液，如果拉的水不多，可以继续光母乳，预防脱水', 'O O O O O O O O O O O O O O O B-Operation I-Operation O O O O O O O O O O O O O O O O O O O B-Symptom I-Symptom', 'X X X X X X X X X X X X X X X X X X X X X X X X X X X X X X X X X X X X X X'], ['要不要放冰箱喝剩下的奶', 'O O O O O O O O O O O', 'O O O O O O O O O O O'], ['头疼', 'B-Symptom I-Symptom', 'B-Symptom I-Symptom'], ['可以口服助消化的药物。', 'O O O O B-Drug_Category I-Drug_Category I-Drug_Category I-Drug_Category I-Drug_Category I-Drug_Category O', 'O O O O B-Drug_Category I-Drug_Category I-Drug_Category I-Drug_Category I-Drug_Category I-Drug_Category O'], ['三天前的暂时可以不用，蒙脱石散跟二联益生菌要继续吃', 'O O O O O O O O O O O B-Drug I-Drug I-Drug I-Drug O B-Drug I-Drug I-Drug I-Drug I-Drug O O O O', 'O O O O O O O O O O O B-Drug I-Drug I-Drug I-Drug O B-Drug I-Drug I-Drug I-Drug I-Drug O O O O'], ['注意观察体温变化', 'O O O O O O O O', 'O O O O O O O O'], ['好的,谢谢', 'O O O O O', 'O O O O O'], ['蒙脱石散醒脾养儿颗粒', 'B-Drug I-Drug I-Drug I-Drug B-Drug I-Drug I-Drug I-Drug I-Drug I-Drug', 'B-Drug I-Drug I-Drug I-Drug B-Drug I-Drug I-Drug I-Drug I-Drug I-Drug'], ['孩子舌苔发白，怎么回事啊', 'O O B-Symptom I-Symptom I-Symptom I-Symptom O O O O O O', 'O O B-Symptom I-Symptom I-Symptom I-Symptom O O O O O O'], ['有无流涕？清涕还是黄涕？', 'O O B-Symptom I-Symptom O B-Symptom I-Symptom O O B-Symptom I-Symptom O', 'O O B-Symptom I-Symptom O B-Symptom I-Symptom O O B-Symptom I-Symptom O'], ['利巴韦林有吗', 'B-Drug I-Drug I-Drug I-Drug O O', 'B-Drug I-Drug I-Drug I-Drug O O'], ['那怎么照射', 'O O O O O', 'X X X X X'], ['如果方便的话，也可以配合做雾化', 'O O O O O O O O O O O O O B-Operation I-Operation', 'O O O O O O O O O O O O O B-Operation I-Operation'], ['恩', 'O', 'O'], ['另外孩子如果吃母乳，孩子妈妈忌辛辣刺激，生冷食品', 'O O O O O O O O O O O O O O O O O O O O O O O O', 'X X X X X X X X X X X X X X X X X X X X X X X X'], ['咳嗽都哭了', 'B-Symptom I-Symptom O B-Symptom O', 'B-Symptom I-Symptom O B-Symptom O'], ['好的', 'O O', 'O O'], ['没有脓血', 'O O B-Symptom I-Symptom', 'O O B-Symptom I-Symptom'], ['目前您宝宝的体温需要药物降温，可以选择口服的布洛芬或者对乙酰氨基酚', 'O O O O O O O O O O O O O O O O O O O O O O B-Drug I-Drug I-Drug O O B-Drug I-Drug I-Drug I-Drug I-Drug I-Drug', 'O O O O O O O O O O O O O O O O O O O O O O B-Drug I-Drug I-Drug O O B-Drug I-Drug I-Drug I-Drug I-Drug I-Drug'], ['昨晚烧38.8吃了退热药，最高39', 'O O B-Symptom I-Symptom I-Symptom I-Symptom I-Symptom O O B-Drug_Category I-Drug_Category I-Drug_Category O O O B-Symptom I-Symptom', 'X X X X X X X X X X X X X X X X X'], ['布洛芬每袋0.2克，我家宝宝10个月吃多少', 'B-Drug I-Drug I-Drug O O O O O O O O O O O O O O O O O O', 'B-Drug I-Drug I-Drug O O O O O O O O O O O O O O O O O O'], ['宝宝还有其他症状吗？', 'O O O O O O O O O O', 'O O O O O O O O O O'], ['是的', 'O O', 'O O'], ['哦', 'O', 'O'], ['另外如果反复腹泻，最好化验便常规除外肠道感染。', 'O O O O O O B-Symptom I-Symptom O O O O O B-Medical_Examination I-Medical_Examination I-Medical_Examination O O B-Symptom I-Symptom I-Symptom I-Symptom O', 'O O O O O O B-Symptom I-Symptom O O O O O B-Medical_Examination I-Medical_Examination I-Medical_Examination O O B-Symptom I-Symptom I-Symptom I-Symptom O'], ['可以的', 'O O O', 'O O O'], ['如果效果不好，怀疑乳糖不耐受，换用不含乳糖的奶粉', 'O O O O O O O O O B-Symptom I-Symptom I-Symptom I-Symptom I-Symptom O O O O O O O O O O', 'O O O O O O O O O B-Symptom I-Symptom I-Symptom I-Symptom I-Symptom O O O O O O O O O O'], ['嗯嗯', 'O O', 'O O'], ['考虑感染性腹泻的可能。需要再次检查大便常规', 'O O B-Symptom I-Symptom I-Symptom I-Symptom I-Symptom O O O O O O O O O O B-Medical_Examination I-Medical_Examination I-Medical_Examination I-Medical_Examination', 'O O B-Symptom I-Symptom I-Symptom I-Symptom I-Symptom O O O O O O O O O O B-Medical_Examination I-Medical_Examination I-Medical_Examination I-Medical_Examination'], ['今天还给喝了小儿双解止泻颗粒', 'O O O O O O B-Drug I-Drug I-Drug I-Drug I-Drug I-Drug I-Drug I-Drug', 'O O O O O O B-Drug I-Drug I-Drug I-Drug I-Drug I-Drug I-Drug I-Drug'], ['口唇干尿也少', 'B-Symptom I-Symptom I-Symptom B-Symptom I-Symptom I-Symptom', 'B-Symptom I-Symptom I-Symptom B-Symptom I-Symptom I-Symptom'], ['睡前喝了点牛奶，他可能不舒服，刚闹了', 'O O O O O O O O O O O O O O O O B-Symptom O', 'O O O O O O O O O O O O O O O O B-Symptom O'], ['所以说这个孩子的这些表现应该是正常的', 'O O O O O O O O O O O O O O O O O O', 'O O O O O O O O O O O O O O O O O O'], ['憋的脸红，', 'O O O O O', 'X X X X X'], ['您好，我是您这次的咨询医生', 'O O O O O O O O O O O O O', 'O O O O O O O O O O O O O'], ['可以用我刚才讲的方法物理降温，也可以泡澡。', 'O O O O O O O O O O O O O O O O O O O O O', 'O O O O O O O O O O O O O O O O O O O O O'], ['发烧吗？', 'B-Symptom I-Symptom O O', 'B-Symptom I-Symptom O O'], ['如果没有其他问题，那就结束了', 'O O O O O O O O O O O O O O', 'O O O O O O O O O O O O O O'], ['不客气', 'O O O', 'O O O'], ['好', 'O', 'O'], ['不客气的。', 'O O O O O', 'O O O O O'], ['别着急，可以打抗过敏药和消炎药观察', 'O O O O O O O B-Drug_Category I-Drug_Category I-Drug_Category I-Drug_Category O B-Drug_Category I-Drug_Category I-Drug_Category O O', 'X X X X X X X X X X X X X X X X X'], ['一次1/3袋，一天三次', 'O O O O O O O O O O O', 'O O O O O O O O O O O'], ['去上级医院检查？', 'O O O O O O O O', 'O O O O O O O O'], ['母乳', 'O O', 'O O'], ['都说输液危害大，尤其是婴幼儿，', 'O O B-Operation I-Operation O O O O O O O O O O O', 'O O B-Operation I-Operation O O O O O O O O O O O'], ['那可以试一试艾畅，对感冒症状还可以', 'O O O O O O B-Drug I-Drug O O B-Symptom I-Symptom O O O O O', 'O O O O O O B-Drug I-Drug O O B-Symptom I-Symptom O O O O O'], ['考虑传染的可能性非常大。', 'O O O O O O O O O O O O', 'O O O O O O O O O O O O'], ['这个一般不是太贵，当然有些时候医生可能会配合着给孩子输一些液，可能会导致费用贵一些。', 'O O O O O O O O O O O O O O O O O O O O O O O O O O B-Operation I-Operation I-Operation I-Operation O O O O O O O O O O O O', 'O O O O O O O O O O O O O O O O O O O O O O O O O O B-Operation I-Operation I-Operation I-Operation O O O O O O O O O O O O'], ['要注意体温情况，如果出现高热体温39度，就要吃美林退热药。', 'O O O O O O O O O O O O B-Symptom I-Symptom I-Symptom I-Symptom I-Symptom I-Symptom I-Symptom O O O O B-Drug I-Drug B-Drug_Category I-Drug_Category I-Drug_Category O', 'X X X X X X X X X X X X X X X X X X X X X X X X X X X X X'], ['另外布诺分混悬液用美林就可以了', 'O O B-Drug I-Drug I-Drug I-Drug I-Drug I-Drug O B-Drug I-Drug O O O O', 'O O B-Drug I-Drug I-Drug I-Drug I-Drug I-Drug O B-Drug I-Drug O O O O'], ['白天还是晚上厉害', 'O O O O O O O O', 'O O O O O O O O'], ['在吗？', 'O O O', 'O O O'], ['大便在肠腔内停留时间过长会有酸臭味道的，药物不吃的话，孩子就容易便秘脱肛。', 'O O O O O O O O O O O O O B-Symptom I-Symptom I-Symptom I-Symptom I-Symptom I-Symptom O O O O O O O O O O O O O B-Symptom I-Symptom O O O', 'X X X X X X X X X X X X X X X X X X X X X X X X X X X X X X X X X X X X X'], ['今天他没吐，拉肚子也好很多了，就是还有流鼻涕跟咳嗽。', 'O O O O B-Symptom O B-Symptom I-Symptom I-Symptom O O O O O O O O O O B-Symptom I-Symptom I-Symptom O B-Symptom I-Symptom O', 'O O O O B-Symptom O B-Symptom I-Symptom I-Symptom O O O O O O O O O O B-Symptom I-Symptom I-Symptom O B-Symptom I-Symptom O'], ['以前推拿好久没生病啦近期总犯病', 'O O O O O O O O O O O O O O O', 'O O O O O O O O O O O O O O O'], ['还有其他问题吗？', 'O O O O O O O O', 'O O O O O O O O'], ['好的', 'O O', 'O O'], ['也就是说这个孩子现在口服药物比较困难', 'O O O O O O O O O O O O O O O O O O', 'O O O O O O O O O O O O O O O O O O'], ['您好，我是您的辅诊医生，很高兴为您提供服务，解答问题。', 'O O O O O O O O O O O O O O O O O O O O O O O O O O O', 'O O O O O O O O O O O O O O O O O O O O O O O O O O O'], ['如果单纯感冒症状，多1周左右会改善', 'O O O O B-Symptom I-Symptom O O O O O O O O O O O', 'O O O O B-Symptom I-Symptom O O O O O O O O O O O'], ['感觉鼻子不畅通', 'O O B-Symptom I-Symptom I-Symptom I-Symptom I-Symptom', 'O O B-Symptom I-Symptom I-Symptom I-Symptom I-Symptom'], ['好的，谢谢', 'O O O O O', 'O O O O O'], ['（空）', 'O O O', 'O O O'], ['医生说的这些都没有吃', 'O O O O O O O O O O', 'O O O O O O O O O O'], ['没有问医生', 'O O O O O', 'O O O O O'], ['好的，谢谢大夫', 'O O O O O O O', 'O O O O O O O'], ['病理性黄疸值听说升得很快的', 'B-Symptom I-Symptom I-Symptom I-Symptom I-Symptom O O O O O O O O', 'X X X X X X X X X X X X X'], ['好吧，祝孩子早日康复！', 'O O O O O O O O O O O', 'O O O O O O O O O O O'], ['有点', 'O O', 'O O'], ['可是他刚才也大便了一次，软的，还是有血哦', 'O O O O O O O O O O O O O O O O O O O O', 'X X X X X X X X X X X X X X X X X X X X'], ['哦，知道了，谢谢', 'O O O O O O O O', 'O O O O O O O O'], ['您好。', 'O O O', 'O O O'], ['没有痰', 'O O B-Symptom', 'O O B-Symptom'], ['这个孩子发热一个周了，什么检查也没有做？', 'O O O O B-Symptom I-Symptom O O O O O O O O O O O O O O', 'O O O O B-Symptom I-Symptom O O O O O O O O O O O O O O'], ['（空）', 'O O O', 'O O O'], ['咳嗽是一个过程，宝贝上痰后咳嗽症状比较厉害，并不代表宝贝病情加重了，痰液刺激的！不用担心，多给宝贝后背', 'B-Symptom I-Symptom O O O O O O O O O B-Symptom O B-Symptom I-Symptom O O O O O O O O O O O O O O O O O O O B-Symptom I-Symptom O O O O O O O O O O O O O O O', 'X X X X X X X X X X X X X X X X X X X X X X X X X X X X X X X X X X X X X X X X X X X X X X X X X X X'], ['看不出有', 'O O O O', 'O O O O'], ['宝宝咳嗽有痰吗？', 'O O B-Symptom I-Symptom O B-Symptom O O', 'O O B-Symptom I-Symptom O B-Symptom O O'], ['这个基因检测，主要是查先天性疾病的，和亲子鉴定的基因诊断，是完全不同的，一般不会牵扯到亲子关系的，不用太担心。', 'O O O O O O O O O O O O O O O O O O O O O O O O O O O O O O O O O O O O O O O O O O O O O O O O O O O O O O O', 'X X X X X X X X X X X X X X X X X X X X X X X X X X X X X X X X X X X X X X X X X X X X X X X X X X X X X X X'], ['能放屁不，能喝水吗', 'O B-Symptom I-Symptom O O O O O O', 'O B-Symptom I-Symptom O O O O O O'], ['宝贝最近吃饭怎么样？有没有恶心呕吐情况？', 'O O O O O O O O O O O O O B-Symptom I-Symptom B-Symptom I-Symptom O O O', 'O O O O O O O O O O O O O B-Symptom I-Symptom B-Symptom I-Symptom O O O'], ['肛门塞可以吗', 'B-Operation I-Operation I-Operation O O O', 'X X X X X X'], ['美林吃完多长时间吃妈咪爱？', 'B-Drug I-Drug O O O O O O O B-Drug I-Drug I-Drug O', 'B-Drug I-Drug O O O O O O O B-Drug I-Drug I-Drug O'], ['哦', 'O', 'O'], ['吃奶都正常', 'O O O O O', 'O O O O O'], ['好的，那有没有比较好的物理降温方法？', 'O O O O O O O O O O O O O O O O O O', 'O O O O O O O O O O O O O O O O O O'], ['我看一下', 'O O O O', 'O O O O'], ['不用吃了', 'O O O O', 'O O O O'], ['好的，谢谢', 'O O O O O', 'O O O O O'], ['好的', 'O O', 'O O'], ['什么比较好？？', 'O O O O O O O', 'O O O O O O O'], ['如果没有感冒的话，那你完全可以不吃药，', 'O O O O B-Symptom I-Symptom O O O O O O O O O O O O O', 'O O O O B-Symptom I-Symptom O O O O O O O O O O O O O'], ['可能的原因，一慢性的支气管炎，二，过敏性咳嗽的可能。', 'O O O O O O O B-Symptom I-Symptom I-Symptom I-Symptom I-Symptom I-Symptom I-Symptom O O O B-Symptom I-Symptom I-Symptom I-Symptom I-Symptom O O O O', 'X X X X X X X X X X X X X X X X X X X X X X X X X X'], ['可能效果要好一些。', 'O O O O O O O O O', 'O O O O O O O O O'], ['嗯嗯，这个奶粉的因素就不大了', 'O O O O O O O O O O O O O O', 'O O O O O O O O O O O O O O'], ['你好，在吗', 'O O O O O', 'O O O O O']]\n",
      "随机抽样预测结果已保存到 predictions_sampled1.tsv 文件中\n"
     ]
    }
   ],
   "source": [
    "# 计算 F1 分数\n",
    "precision, recall, f1 = calculate_f1(true_labels, predicted_labels)\n",
    "\n",
    "print(f\"精确率(Precision): {precision}\")\n",
    "print(f\"召回率(Recall): {recall}\")\n",
    "print(f\"F1 分数(F1 Score): {f1}\")\n",
    "\n",
    "\n",
    "# 打印预测内容\n",
    "print(predictions)\n",
    "\n",
    "# 将预测内容保存为新的 TSV 文件\n",
    "output_df = pd.DataFrame(predictions, columns=['instruction', 'output', 'pred_output'])\n",
    "output_df.to_csv(\"predictions_sampled.tsv\", sep='\\t', index=False)\n",
    "\n",
    "print(\"随机抽样预测结果已保存到 predictions_sampled1.tsv 文件中\")"
   ]
  },
  {
   "cell_type": "code",
   "execution_count": null,
   "id": "b3ec9b1e-1217-4653-9b92-c571193d5abd",
   "metadata": {},
   "outputs": [],
   "source": []
  }
 ],
 "metadata": {
  "kernelspec": {
   "display_name": "Python 3 (ipykernel)",
   "language": "python",
   "name": "python3"
  },
  "language_info": {
   "codemirror_mode": {
    "name": "ipython",
    "version": 3
   },
   "file_extension": ".py",
   "mimetype": "text/x-python",
   "name": "python",
   "nbconvert_exporter": "python",
   "pygments_lexer": "ipython3",
   "version": "3.11.8"
  }
 },
 "nbformat": 4,
 "nbformat_minor": 5
}
