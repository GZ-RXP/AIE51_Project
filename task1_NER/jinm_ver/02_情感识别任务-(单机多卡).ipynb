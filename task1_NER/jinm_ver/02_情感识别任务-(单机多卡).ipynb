{
 "cells": [
  {
   "cell_type": "markdown",
   "id": "74be0a65-dd5b-49fe-8730-ee46eadfdcb9",
   "metadata": {},
   "source": [
    "### 1. 引入依赖"
   ]
  },
  {
   "cell_type": "code",
   "execution_count": 1,
   "id": "b1b0f009-bd1b-4a2f-bf49-cb246d56a98c",
   "metadata": {
    "ExecutionIndicator": {
     "show": true
    },
    "tags": []
   },
   "outputs": [],
   "source": [
    "from transformers import AutoModelForCausalLM, AutoTokenizer\n",
    "import json\n",
    "import pandas as pd\n",
    "from tqdm import tqdm"
   ]
  },
  {
   "cell_type": "markdown",
   "id": "049e15ab-6eb4-4141-8bf6-fd3f6c92d885",
   "metadata": {},
   "source": [
    "### 2. 加载模型"
   ]
  },
  {
   "cell_type": "code",
   "execution_count": 2,
   "id": "83f3838d-519b-404d-b103-dde629b0a4cb",
   "metadata": {
    "ExecutionIndicator": {
     "show": true
    },
    "tags": []
   },
   "outputs": [],
   "source": [
    "model_name = \"/root/autodl-tmp/outputs/Qwen2.5-0.5B-Instruct\"\n",
    "\n",
    "model = AutoModelForCausalLM.from_pretrained(\n",
    "    model_name,\n",
    "    torch_dtype=\"auto\",\n",
    "    device_map=\"auto\"\n",
    ")\n",
    "tokenizer = AutoTokenizer.from_pretrained(model_name)"
   ]
  },
  {
   "cell_type": "markdown",
   "id": "deb5c63c-33dd-4c35-8b47-42a56f20e79b",
   "metadata": {},
   "source": [
    "### 3. 情感分析"
   ]
  },
  {
   "cell_type": "code",
   "execution_count": 3,
   "id": "eb31db22-a78f-4474-a564-476dd78274f9",
   "metadata": {
    "ExecutionIndicator": {
     "show": true
    },
    "tags": []
   },
   "outputs": [],
   "source": [
    "def get_sentiment(text):\n",
    "    \"\"\"\n",
    "        调用大模型进行情感分析\n",
    "    \"\"\"\n",
    "    sys_prompt = \"\"\"\n",
    "    你是一个情感识别专家！请对用户输入的酒店评论做情感分析！\n",
    "    如果是正面的评论，请输出：\n",
    "    {\n",
    "        \"sentiment\": \"正面\"\n",
    "    }，\n",
    "    如果是负面的评论，请输出：\n",
    "    {\n",
    "        \"sentiment\": \"负面\"\n",
    "    }\n",
    "    \"\"\"\n",
    "    messages = [\n",
    "        {\"role\": \"system\", \"content\": sys_prompt},\n",
    "        {\"role\": \"user\", \"content\": text}\n",
    "    ]\n",
    "    text = tokenizer.apply_chat_template(\n",
    "        messages,\n",
    "        tokenize=False,\n",
    "        add_generation_prompt=True\n",
    "    )\n",
    "    model_inputs = tokenizer([text], return_tensors=\"pt\").to(model.device)\n",
    "\n",
    "    generated_ids = model.generate(\n",
    "        **model_inputs,\n",
    "        max_new_tokens=512\n",
    "    )\n",
    "    generated_ids = [\n",
    "        output_ids[len(input_ids):] for input_ids, output_ids in zip(model_inputs.input_ids, generated_ids)\n",
    "    ]\n",
    "\n",
    "    response = tokenizer.batch_decode(generated_ids, skip_special_tokens=True)[0]\n",
    "    return response"
   ]
  },
  {
   "cell_type": "code",
   "execution_count": 4,
   "id": "31c5c4f7-f681-4640-ad84-c98d5ffbe048",
   "metadata": {
    "ExecutionIndicator": {
     "show": true
    },
    "tags": []
   },
   "outputs": [],
   "source": [
    "data = pd.read_csv(filepath_or_buffer=\"test.tsv\",\n",
    "                  sep=\"\\t\",\n",
    "                  encoding=\"utf8\")"
   ]
  },
  {
   "cell_type": "code",
   "execution_count": 5,
   "id": "543e2cad-16dc-49a4-8a53-f29ffa9a3c1c",
   "metadata": {
    "ExecutionIndicator": {
     "show": true
    },
    "tags": []
   },
   "outputs": [],
   "source": [
    "num_samples, num_features = data.shape"
   ]
  },
  {
   "cell_type": "code",
   "execution_count": 6,
   "id": "bdf2b4e0-7cf5-4e0b-a3d0-a0bf906af096",
   "metadata": {
    "ExecutionIndicator": {
     "show": true
    },
    "tags": []
   },
   "outputs": [
    {
     "name": "stderr",
     "output_type": "stream",
     "text": [
      "100%|██████████| 1500/1500 [03:32<00:00,  7.06it/s]\n"
     ]
    }
   ],
   "source": [
    "results = []\n",
    "num_errors = 0\n",
    "for idx in tqdm(range(num_samples)):\n",
    "    sample = data.loc[idx, :]\n",
    "    comment = sample[\"评论\"]\n",
    "    sentiment = sample[\"情感\"]\n",
    "    result = get_sentiment(text=comment)\n",
    "    try:\n",
    "        result = json.loads(s=result)\n",
    "    except Exception as ex:\n",
    "        print(f\"json 解析错误：{comment}\")\n",
    "        num_errors += 1\n",
    "        continue\n",
    "    # print(f\"-----------------{idx}----------------------\")\n",
    "    # print(result)\n",
    "    # print(sentiment)\n",
    "    results.append(result[\"sentiment\"] == sentiment)"
   ]
  },
  {
   "cell_type": "code",
   "execution_count": 7,
   "id": "d9b7441e-f780-4434-8c3b-74c16757f056",
   "metadata": {
    "ExecutionIndicator": {
     "show": true
    },
    "tags": []
   },
   "outputs": [
    {
     "data": {
      "text/plain": [
       "0.9173333333333333"
      ]
     },
     "execution_count": 7,
     "metadata": {},
     "output_type": "execute_result"
    }
   ],
   "source": [
    "# from tqdm import tqdm\n",
    "acc = sum(results) / len(results)\n",
    "acc"
   ]
  },
  {
   "cell_type": "code",
   "execution_count": 8,
   "id": "8e291c70-16a4-4ac1-aed9-1da96de840b1",
   "metadata": {
    "ExecutionIndicator": {
     "show": true
    },
    "tags": []
   },
   "outputs": [
    {
     "data": {
      "text/plain": [
       "0"
      ]
     },
     "execution_count": 8,
     "metadata": {},
     "output_type": "execute_result"
    }
   ],
   "source": [
    "# 格式错误\n",
    "num_errors"
   ]
  },
  {
   "cell_type": "code",
   "execution_count": null,
   "id": "4f65a814-ca44-47ab-b8af-2e958e2d21f2",
   "metadata": {},
   "outputs": [],
   "source": []
  }
 ],
 "metadata": {
  "kernelspec": {
   "display_name": "Python 3 (ipykernel)",
   "language": "python",
   "name": "python3"
  },
  "language_info": {
   "codemirror_mode": {
    "name": "ipython",
    "version": 3
   },
   "file_extension": ".py",
   "mimetype": "text/x-python",
   "name": "python",
   "nbconvert_exporter": "python",
   "pygments_lexer": "ipython3",
   "version": "3.12.3"
  }
 },
 "nbformat": 4,
 "nbformat_minor": 5
}
